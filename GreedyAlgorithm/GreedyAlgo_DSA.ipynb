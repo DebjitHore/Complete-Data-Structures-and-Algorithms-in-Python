{
  "nbformat": 4,
  "nbformat_minor": 0,
  "metadata": {
    "colab": {
      "provenance": []
    },
    "kernelspec": {
      "name": "python3",
      "display_name": "Python 3"
    },
    "language_info": {
      "name": "python"
    }
  },
  "cells": [
    {
      "cell_type": "markdown",
      "source": [
        "* In each step it chooses the piece that offers the most obvious and immediate benefit\n",
        "* It fits perfectly for those solutions where the local optimal solutions leads to the global solution\n",
        "* "
      ],
      "metadata": {
        "id": "mdwhMVe3Y2l5"
      }
    },
    {
      "cell_type": "markdown",
      "source": [
        "## Activity Selection Problem"
      ],
      "metadata": {
        "id": "SxsopGOtMjl8"
      }
    },
    {
      "cell_type": "markdown",
      "source": [
        "* Maximum number of activities that can be performed by a single person, assuming one activity at a time\n",
        "* Time complexity is O(NlogN) and space complexity is O(1)"
      ],
      "metadata": {
        "id": "-WRP6frAO_M-"
      }
    },
    {
      "cell_type": "code",
      "source": [
        "activities= [[0, 6], [3,4], [1,2], [5,8], [5,7], [8,9]]\n",
        "\n",
        "\n",
        "def selectMaxActivities(activities):\n",
        "\tactivities.sort(key= lambda x: x[1])\n",
        "\ti=0\n",
        "\tfirstActivity= activities[i]\n",
        "\tfinalActivityList=[]\n",
        "\tfinalActivityList.append(firstActivity)\n",
        "\tfor j in range(1, len(activities)):\n",
        "\t\tif activities[j][0]>activities[i][1]:\n",
        "\t\t\tfinalActivityList.append(activities[j])\n",
        "\t\t\ti=j\n",
        "\t\telse:\n",
        "\t\t\tcontinue\n",
        "\treturn (len(finalActivityList), finalActivityList)\n",
        "\n",
        "\n",
        "\n",
        "print(selectMaxActivities(activities))"
      ],
      "metadata": {
        "colab": {
          "base_uri": "https://localhost:8080/"
        },
        "id": "nDftxvU-PFtu",
        "outputId": "818f27cc-cab6-40ef-8972-d93d10001665"
      },
      "execution_count": 3,
      "outputs": [
        {
          "output_type": "stream",
          "name": "stdout",
          "text": [
            "(4, [[1, 2], [3, 4], [5, 7], [8, 9]])\n"
          ]
        }
      ]
    },
    {
      "cell_type": "markdown",
      "source": [
        "## Coin Change Problem\n",
        "* Minimum number of coins needed to in different denominations to reach a certain amount of money\n",
        "* Time complexity is O(N) and Space is O(p) where p is the number of values going in, if a custom list is created"
      ],
      "metadata": {
        "id": "x4z3H8z1PH1K"
      }
    },
    {
      "cell_type": "code",
      "source": [
        "def minimumCoins(amount, coins):\n",
        "\tN= amount\n",
        "\tcoins.sort()\n",
        "\tindex= len(coins)-1\n",
        "\tpurse=[]\n",
        "\twhile True:\n",
        "\t\tcoinValue= coins[index]\n",
        "\t\tif N>=coinValue:\n",
        "\t\t\tN-=coinValue\n",
        "\t\t\tpurse.append(coinValue)\n",
        "\t\telif N< coinValue and index>0:\n",
        "\t\t\tindex-=1\n",
        "\t\telif N==0:\n",
        "\t\t\tbreak\n",
        "\treturn (purse)\n",
        "\n",
        "coins= [1,2,5,20,50, 100]\n",
        "print(minimumCoins(243, coins))\n"
      ],
      "metadata": {
        "colab": {
          "base_uri": "https://localhost:8080/"
        },
        "id": "mbs1PstPRpig",
        "outputId": "347f320e-722a-4477-ffb4-94686425b7a5"
      },
      "execution_count": 6,
      "outputs": [
        {
          "output_type": "stream",
          "name": "stdout",
          "text": [
            "[100, 100, 20, 20, 2, 1]\n"
          ]
        }
      ]
    },
    {
      "cell_type": "markdown",
      "source": [
        "## Fractional Knapsack Problem\n",
        "* Limited weighted knapsack, add items in knapsack to maximise value within weight constraints\n",
        "* Maximum density values are added first\n",
        "* Time complexity is O(NlogN) and Space is O(1) where p is the number of values going in, if a custom list is created"
      ],
      "metadata": {
        "id": "3WY2LzETSF_e"
      }
    },
    {
      "cell_type": "code",
      "source": [
        "class Item:\n",
        "\tdef __init__(self, weight, value):\n",
        "\t\tself.weight = weight\n",
        "\t\tself.value= value\n",
        "\t\tself.ratio= value/weight\n",
        "\n",
        "\n",
        "def knapSack(items, capacity):\n",
        "\titems.sort(key=lambda x: x.ratio, reverse=True)\n",
        "\tusedCapacity=0\n",
        "\ttotalValue=0\n",
        "\tfor i in items:\n",
        "\t\tif usedCapacity+i.weight <=capacity:\n",
        "\t\t\tusedCapacity+=i.weight\n",
        "\t\t\ttotalValue+=i.value\n",
        "\t\telse:\n",
        "\t\t\tunusedWeight=capacity-usedCapacity\n",
        "\t\t\tvalue=i.ratio*unusedWeight\n",
        "\t\t\ttotalValue+=value\n",
        "\t\tif usedCapacity==capacity:\n",
        "\t\t\tbreak\n",
        "\t\t\t\n",
        "\tprint(\"Total value obtained: \"+str(totalValue))\n",
        "\n",
        "\n",
        "item1= Item(20,100)\n",
        "item2= Item(30,120)\n",
        "item3= Item(10,60)\n",
        "\n",
        "cList= [item1, item2, item3]\n",
        "\n",
        "\n",
        "knapSack(cList, 50)"
      ],
      "metadata": {
        "colab": {
          "base_uri": "https://localhost:8080/"
        },
        "id": "_EMJxMi1WOab",
        "outputId": "76b6284b-ab24-4740-be82-330006887e15"
      },
      "execution_count": 7,
      "outputs": [
        {
          "output_type": "stream",
          "name": "stdout",
          "text": [
            "Total value obtained: 240.0\n"
          ]
        }
      ]
    },
    {
      "cell_type": "code",
      "source": [],
      "metadata": {
        "id": "2WWtasquWPPr"
      },
      "execution_count": null,
      "outputs": []
    }
  ]
}