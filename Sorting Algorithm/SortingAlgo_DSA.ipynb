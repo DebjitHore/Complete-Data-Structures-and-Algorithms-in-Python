{
  "nbformat": 4,
  "nbformat_minor": 0,
  "metadata": {
    "colab": {
      "provenance": []
    },
    "kernelspec": {
      "name": "python3",
      "display_name": "Python 3"
    },
    "language_info": {
      "name": "python"
    }
  },
  "cells": [
    {
      "cell_type": "markdown",
      "source": [
        "* Bubble sort\n",
        "* Selection sort\n",
        "* Merge sort\n",
        "* Insertion sort\n",
        "* Bucket sort\n",
        "* Quick sort\n",
        "* Heap sort\n",
        "\n",
        "*Each sorting algorithm has its own specific use cases*\n"
      ],
      "metadata": {
        "id": "dOMVyKym2iI0"
      }
    },
    {
      "cell_type": "markdown",
      "source": [
        "* Sorting can be classified :\n",
        "  * Space - In place (do not require any extra space `bubble sort`), Out of place ( extra space needed, `merge sort`)\n",
        "  * Stability- Stable, Unstable"
      ],
      "metadata": {
        "id": "HKoaPTVq2XZ0"
      }
    },
    {
      "cell_type": "markdown",
      "source": [
        "* In `stable` sorting the relative order of similar content remains unchanged after sorting, `insertion sort`\n",
        "* If the sequence of similar content is changed, it is `unstable`, `quick sort`"
      ],
      "metadata": {
        "id": "grnrFwQQ5CY2"
      }
    },
    {
      "cell_type": "markdown",
      "source": [
        "## Types of sorting\n",
        "\n",
        "* Increasing Order- ascending \n",
        "* Decreasing Order - descending\n",
        "* Non increasing Order - Less than or equal to previous element, used when sequence has duplicates\n",
        "* Non decreasing Order - Greater than or equal to its previous element"
      ],
      "metadata": {
        "id": "RKqkUIcuQFgX"
      }
    },
    {
      "cell_type": "markdown",
      "source": [
        "## Bubble Sort\n",
        "\n",
        "* Repeatedly compare with adjacent item and swap if they are in the wrong order\n",
        "* Time complexity is O(N^2) and space complexity is O(1)\n",
        "* Easy to implement and space is no concern, time complexity is however poor"
      ],
      "metadata": {
        "id": "7P9zMw694Em5"
      }
    },
    {
      "cell_type": "code",
      "source": [
        "#Implementing Bubble sort\n",
        "\n",
        "\n",
        "def bubbleSort(customList):\n",
        "\tfor i in range(len(customList)-1):\n",
        "\t\tfor j in range(len(customList)-i-1):\n",
        "\t\t\t if customList[j]>customList[j+1]:\n",
        "\t\t\t \tcustomList[j], customList[j+1]= customList[j+1], customList[j]\n",
        "\tprint(customList)\n",
        "\n",
        "\n",
        "\n",
        "customList=[2, 1, 7, 3, 5, 5, 6, 0]\n",
        "bubbleSort(customList)\n",
        "\n",
        "def bubbleSortTwo(customList):\n",
        "\tfor i in range(len(customList)-1):\n",
        "\t\tfor j in range(i+1, len(customList)):\n",
        "\t\t\t if customList[i]>customList[j]:\n",
        "\t\t\t \tcustomList[i], customList[j]= customList[j], customList[i]\n",
        "\tprint(customList)\n",
        "\n",
        "bubbleSortTwo(customList)\n"
      ],
      "metadata": {
        "colab": {
          "base_uri": "https://localhost:8080/"
        },
        "id": "a_yIcrN4R3SS",
        "outputId": "27df5f14-449e-4167-ccfd-2b814bb3c6f3"
      },
      "execution_count": 1,
      "outputs": [
        {
          "output_type": "stream",
          "name": "stdout",
          "text": [
            "[0, 1, 2, 3, 5, 5, 6, 7]\n",
            "[0, 1, 2, 3, 5, 5, 6, 7]\n"
          ]
        }
      ]
    },
    {
      "cell_type": "markdown",
      "source": [
        "## Selection sort \n",
        "* Repeatedly find the minimum of the array and shift it to the sorted part of the array to make the unsorted part sorted\n",
        "* Performs well on small list, in place so no additional memory storage is required\n",
        "* Performs better of ordered list\n",
        "* O(N^2) time complexity\n",
        "* Works better with insufficient memory, but time is a concern "
      ],
      "metadata": {
        "id": "augxxMu6Ulmz"
      }
    },
    {
      "cell_type": "code",
      "source": [
        "# Implementing Selection Sort\n",
        "\n",
        "def selectionSort(customList):\n",
        "\tfor i in range(len(customList)):\n",
        "\t\tmin_index= i\n",
        "\t\tfor j in range(i+1, len(customList)):\n",
        "\t\t\tif customList[min_index]> customList[j]:\n",
        "\t\t\t\tmin_index = j\n",
        "\t\t\t\tcustomList[min_index], customList[i]= customList[i], customList[min_index]  \n",
        "\tprint(customList)\n",
        "\n",
        "\n",
        "\n",
        "\n",
        "customList=[2, 1, 7, 3, 5, 5, 6, 0]\n",
        "selectionSort(customList)"
      ],
      "metadata": {
        "colab": {
          "base_uri": "https://localhost:8080/"
        },
        "id": "TDeE7u7EVWI-",
        "outputId": "aa896efa-8811-4f73-e9fa-1e4ef6778e31"
      },
      "execution_count": 2,
      "outputs": [
        {
          "output_type": "stream",
          "name": "stdout",
          "text": [
            "[0, 1, 2, 5, 6, 5, 3, 7]\n"
          ]
        }
      ]
    },
    {
      "cell_type": "markdown",
      "source": [
        "## Insertion sort\n",
        "* Space efficient \n",
        "* Time complexity is O(N^2)\n",
        "* Easy to implement"
      ],
      "metadata": {
        "id": "88JYUcEtir5w"
      }
    },
    {
      "cell_type": "code",
      "source": [
        "def insertionSort(customList):\n",
        "\tfor i in range(1, len(customList)):\n",
        "\t\tkey = customList[i]\n",
        "\t\tj=i-1\n",
        "\t\twhile j>=0 and key <customList[j]:\n",
        "\t\t\tcustomList[j+1]= customList[j]\n",
        "\t\t\tj-=1\n",
        "\t\tcustomList[j+1]=key\n",
        "\tprint(customList)\n",
        "\n",
        "\n",
        "\n",
        "\n",
        "\n",
        "customList=[2, 1, 7, 3, 5, 5,  6, 0]\n",
        "insertionSort(customList)"
      ],
      "metadata": {
        "colab": {
          "base_uri": "https://localhost:8080/"
        },
        "id": "e62YCVXJXRpw",
        "outputId": "92e4e00d-62b6-4bbf-8152-1751a65613fe"
      },
      "execution_count": 3,
      "outputs": [
        {
          "output_type": "stream",
          "name": "stdout",
          "text": [
            "[0, 1, 2, 3, 5, 5, 6, 7]\n"
          ]
        }
      ]
    },
    {
      "cell_type": "markdown",
      "source": [
        "## Bucket Sort\n",
        "* Create buckets, distribute elements of array into buckets\n",
        "* Sort buckets individually\n",
        "* Merge buckets after sorting\n",
        "* Number of buckets = round(sqrt(numberOfElements)\n",
        "* Appropriate bucket = ceil(Value*numberOfBuckets/maxValue)\n",
        "* Time complexity is O(N^2), space complexity is O(N)\n",
        "* Use only when input array is uniformly distributed over range\n",
        "* Not to be used when space is a concern\n",
        "\n"
      ],
      "metadata": {
        "id": "-jHPdQCeXTsL"
      }
    },
    {
      "cell_type": "code",
      "source": [
        "# implementing bucket sort\n",
        "import math\n",
        "\n",
        "def insertionSort(customList):\n",
        "\tfor i in range(1, len(customList)):\n",
        "\t\tkey = customList[i]\n",
        "\t\tj=i-1\n",
        "\t\twhile j>=0 and key <customList[j]:\n",
        "\t\t\tcustomList[j+1]= customList[j]\n",
        "\t\t\tj-=1\n",
        "\t\tcustomList[j+1]=key\n",
        "\treturn  customList\n",
        "def bucketSort(customList):\n",
        "\tnumberOfBuckets= round(math.sqrt(len(customList)))\n",
        "\tmaxVal= max(customList)\n",
        "\tarr = []\n",
        "\n",
        "\tfor i in range(numberOfBuckets):\n",
        "\t\tarr.append([])\n",
        "\tfor j in customList:\n",
        "\t\tindex_b= math.ceil(j*numberOfBuckets/maxVal)\n",
        "\t\tarr[index_b-1].append(j)\n",
        "\n",
        "\tfor i in range(numberOfBuckets):\n",
        "\t\tarr[i]= insertionSort(arr[i]) #use quick sort\n",
        "\tprint(arr)\n",
        "\n",
        "\tk=0\n",
        "\n",
        "\tfor i in range(numberOfBuckets):\n",
        "\t\tfor j in range(len(arr[i])):\n",
        "\t\t\tcustomList[k]= arr[i][j]\n",
        "\t\t\tk+=1\n",
        "\treturn customList\n",
        "\n",
        "\n",
        "customList=[2, 1, 7, 3, 5, 5,  6]\n",
        "bucketSort(customList)"
      ],
      "metadata": {
        "colab": {
          "base_uri": "https://localhost:8080/"
        },
        "id": "8sc24K9JY8QT",
        "outputId": "ac5db77f-c633-4000-9fb3-3e7e68750853"
      },
      "execution_count": 4,
      "outputs": [
        {
          "output_type": "stream",
          "name": "stdout",
          "text": [
            "[[1, 2], [3], [5, 5, 6, 7]]\n"
          ]
        },
        {
          "output_type": "execute_result",
          "data": {
            "text/plain": [
              "[1, 2, 3, 5, 5, 6, 7]"
            ]
          },
          "metadata": {},
          "execution_count": 4
        }
      ]
    },
    {
      "cell_type": "markdown",
      "source": [
        "## Merge Sort\n",
        "* Divide and Conquer Algorithm\n",
        "* Divide input array recursively into halves until it can't be divided any further\n",
        "* Sort and Merge\n",
        "* Time complexity is O(N*log(N))"
      ],
      "metadata": {
        "id": "osRJmaSufO5_"
      }
    },
    {
      "cell_type": "code",
      "source": [
        "# Merge sort\n",
        "\n",
        "\n",
        "def merge_sort(customList):\n",
        "\tif len(customList)>1:\n",
        "\t\tleft_arr= customList[:len(customList)//2]\n",
        "\t\tright_arr = customList[len(customList)//2:]\n",
        "\n",
        "\t\t#recursion\n",
        "\t\tmerge_sort(left_arr)\n",
        "\t\tmerge_sort(right_arr)\n",
        "\n",
        "\t\t#merge \n",
        "\t\ti=j=k=0\n",
        "\t\t# i is left arr idx, j is right arr idx and k is merged arr idx\n",
        "\t\twhile i<len(left_arr) and j<len(right_arr):\n",
        "\t\t\tif left_arr[i]<right_arr[j]:\n",
        "\t\t\t\tcustomList[k]=left_arr[i]\n",
        "\t\t\t\ti+=1\n",
        "\n",
        "\t\t\telse:\n",
        "\t\t\t\tcustomList[k]=right_arr[j]\n",
        "\t\t\t\tj+=1\n",
        "\t\t\tk+=1\n",
        "\n",
        "\t\t # if all elements from right array are inserted but left_arr has leftover elements\n",
        "\t\twhile i< len(left_arr):\n",
        "\t\t \tcustomList[k]= left_arr[i]\n",
        "\t\t \ti+=1\n",
        "\t\t \tk+=1\n",
        "\t\t #similar but reverse case\n",
        "\n",
        "\t\twhile j< len(right_arr):\n",
        "\t\t\tcustomList[k]= right_arr[j]\n",
        "\t\t\tj+=1\n",
        "\t\t\tk+=1\n",
        "\treturn customList\n",
        "\n",
        "customList=[2, 1, 7, 3, 5, 5,  6]\n",
        "print(merge_sort(customList))\n",
        "\n",
        "\n"
      ],
      "metadata": {
        "colab": {
          "base_uri": "https://localhost:8080/"
        },
        "id": "X3eo4Elm0QiD",
        "outputId": "1b98ba8c-c125-4e71-e42c-2e73cc187dd5"
      },
      "execution_count": 5,
      "outputs": [
        {
          "output_type": "stream",
          "name": "stdout",
          "text": [
            "[1, 2, 3, 5, 5, 6, 7]\n"
          ]
        }
      ]
    },
    {
      "cell_type": "markdown",
      "source": [
        "## Quick sort algorithm\n",
        "* Another divide and conquer algorithm\n",
        "* Solutions are combined to solve original problem\n",
        "* O(N^2) worst case, and O(Nlog(N)) best and average time complexity\n",
        "* Does not need extra space"
      ],
      "metadata": {
        "id": "Ut0SYxA70WiE"
      }
    },
    {
      "cell_type": "markdown",
      "source": [
        "* Choose pivot element usually last or random\n",
        "* Stores element less than pivot in left subarray, and more than pivot in right\n",
        "* Call quicksort recursively on left and right subarray\n"
      ],
      "metadata": {
        "id": "rDQKjCYMCK9P"
      }
    },
    {
      "cell_type": "markdown",
      "source": [
        "`Left pointer looks for numbers greater than or equal to pivot and right pointer looks for numbers less than pivot`"
      ],
      "metadata": {
        "id": "daIfwmlvEYDa"
      }
    },
    {
      "cell_type": "code",
      "source": [
        "# implementing quick sort\n",
        "def quickSort(customList, left, right):\n",
        "\tif left<right: #subarray atleast has two elements\n",
        "\t\tpartition_pos= partition(customList, left, right)\n",
        "\t\tquickSort(customList, left, partition_pos-1)\n",
        "\t\tquickSort(customList, partition_pos+1, right)\n",
        "\treturn customList\n",
        "\n",
        "\n",
        "\n",
        "def partition(customList, left, right):\n",
        "\tleftPointer= left\n",
        "\trightPointer= right-1\n",
        "\tpivot= customList[right]\n",
        "\n",
        "\twhile leftPointer<rightPointer:\n",
        "\t\twhile leftPointer<right and customList[leftPointer]<pivot:\n",
        "\t\t\tleftPointer+=1\n",
        "\t\twhile rightPointer > left and customList[rightPointer]>pivot:\n",
        "\t\t\trightPointer-=1\n",
        "\n",
        "\t\tif leftPointer<rightPointer: #swap\n",
        "\t\t\tcustomList[leftPointer], customList[rightPointer]= customList[rightPointer], customList[leftPointer]\n",
        "\n",
        "\tif customList[leftPointer]>pivot:\n",
        "\t\tcustomList[leftPointer], customList[right]= customList[right], customList[leftPointer]\n",
        "\treturn leftPointer\n",
        "\n",
        "\n",
        "customList=[2, 1, 7, 3, -5, 7,  6]\n",
        "print(quickSort(customList, 0, len(customList)-1))\n"
      ],
      "metadata": {
        "colab": {
          "base_uri": "https://localhost:8080/"
        },
        "id": "SMYNrRjGEXff",
        "outputId": "8109ccfb-eda1-42c3-dfd5-a8630dae8276"
      },
      "execution_count": 6,
      "outputs": [
        {
          "output_type": "stream",
          "name": "stdout",
          "text": [
            "[-5, 1, 2, 3, 6, 7, 7]\n"
          ]
        }
      ]
    },
    {
      "cell_type": "markdown",
      "source": [
        "![image.png](data:image/png;base64,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)"
      ],
      "metadata": {
        "id": "e7r4fy_uTW98"
      }
    },
    {
      "cell_type": "code",
      "source": [],
      "metadata": {
        "id": "yrqJDM1BEXcf"
      },
      "execution_count": null,
      "outputs": []
    },
    {
      "cell_type": "code",
      "source": [],
      "metadata": {
        "id": "fRbN_c-40nwT"
      },
      "execution_count": 5,
      "outputs": []
    }
  ]
}