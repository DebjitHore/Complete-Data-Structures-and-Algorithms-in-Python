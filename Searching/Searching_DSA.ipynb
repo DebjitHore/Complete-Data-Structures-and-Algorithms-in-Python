{
  "nbformat": 4,
  "nbformat_minor": 0,
  "metadata": {
    "colab": {
      "provenance": []
    },
    "kernelspec": {
      "name": "python3",
      "display_name": "Python 3"
    },
    "language_info": {
      "name": "python"
    }
  },
  "cells": [
    {
      "cell_type": "markdown",
      "source": [
        "## Linear Search \n",
        "* Time complexity is O(N)\n",
        "* Space complexity is O(1)\n"
      ],
      "metadata": {
        "id": "_CpeGj-fH9v2"
      }
    },
    {
      "cell_type": "code",
      "execution_count": 1,
      "metadata": {
        "colab": {
          "base_uri": "https://localhost:8080/"
        },
        "id": "7rbBx3tOFloj",
        "outputId": "77f84f8a-04c2-415d-da9a-f42fe534f4ff"
      },
      "outputs": [
        {
          "output_type": "stream",
          "name": "stdout",
          "text": [
            "-1\n"
          ]
        }
      ],
      "source": [
        "#implementing linear, binary search\n",
        "\n",
        "#LinearSearch\n",
        "\n",
        "def linearSearch(arrayA, value):\n",
        "\tfor i in range(len(arrayA)):\n",
        "\t\tif arrayA[i]== value:\n",
        "\t\t\treturn i\n",
        "\treturn -1\n",
        "\n",
        "\n",
        "\n",
        "\n",
        "\n",
        "\n",
        "\n",
        "\n",
        "\n",
        "\n",
        "\n",
        "\n",
        "print(linearSearch([10, 30, 50, 20, 70, 55, 72], 90))"
      ]
    },
    {
      "cell_type": "markdown",
      "source": [
        "## Binary Search\n",
        "* Needs a sorted array\n",
        "* Best case O(1), worst case O(logN) {it is log base 2}"
      ],
      "metadata": {
        "id": "0CyQjByfIWGT"
      }
    },
    {
      "cell_type": "code",
      "source": [
        "import math\n",
        "def binarySearch(sortedArray, value):\n",
        "\tleftPointer= 0\n",
        "\trightPointer= len(sortedArray)-1\n",
        "\tmiddlePointer= math.floor((leftPointer+rightPointer)/2)\n",
        "\twhile not(sortedArray[middlePointer]==value) and leftPointer<=rightPointer:\n",
        "\t\tif sortedArray[middlePointer]>value:\n",
        "\t\t\trightPointer = middlePointer-1\n",
        "\t\tif sortedArray[middlePointer]<value:\n",
        "\t\t\tleftPointer= middlePointer+1\n",
        "\t\tmiddlePointer= math.floor((leftPointer+rightPointer)/2)\n",
        "\tif sortedArray[middlePointer]==value:\n",
        "\t\treturn middlePointer\n",
        "\telse:\n",
        "\t\treturn -1"
      ],
      "metadata": {
        "id": "4H2QreEtIFeL"
      },
      "execution_count": 3,
      "outputs": []
    },
    {
      "cell_type": "code",
      "source": [
        "print(binarySearch([1, 3, 6, 9, 12, 15, 32, 77, 93, 95, 99], 95))"
      ],
      "metadata": {
        "colab": {
          "base_uri": "https://localhost:8080/"
        },
        "id": "KLDLV4uwtQ_p",
        "outputId": "8777abd6-78c1-425c-ac90-42fac3f3c47e"
      },
      "execution_count": 4,
      "outputs": [
        {
          "output_type": "stream",
          "name": "stdout",
          "text": [
            "9\n"
          ]
        }
      ]
    },
    {
      "cell_type": "code",
      "source": [],
      "metadata": {
        "id": "Q1ahJIK7tSOD"
      },
      "execution_count": null,
      "outputs": []
    }
  ]
}