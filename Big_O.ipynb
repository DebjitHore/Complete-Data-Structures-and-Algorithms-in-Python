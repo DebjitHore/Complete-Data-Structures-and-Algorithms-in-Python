{
  "nbformat": 4,
  "nbformat_minor": 0,
  "metadata": {
    "colab": {
      "name": "Big O.ipynb",
      "provenance": [],
      "collapsed_sections": [],
      "authorship_tag": "ABX9TyOUoy4BEADxrgMxsUxAVkaP",
      "include_colab_link": true
    },
    "kernelspec": {
      "name": "python3",
      "display_name": "Python 3"
    },
    "language_info": {
      "name": "python"
    }
  },
  "cells": [
    {
      "cell_type": "markdown",
      "metadata": {
        "id": "view-in-github",
        "colab_type": "text"
      },
      "source": [
        "<a href=\"https://colab.research.google.com/github/DebjitHore/Complete-Data-Structures-and-Algorithms-in-Python/blob/main/Big_O.ipynb\" target=\"_parent\"><img src=\"https://colab.research.google.com/assets/colab-badge.svg\" alt=\"Open In Colab\"/></a>"
      ]
    },
    {
      "cell_type": "markdown",
      "metadata": {
        "id": "9eIm8avcqE3s"
      },
      "source": [
        "#Time Complexity\n",
        "* Big O is the language and metric we use to desrcibe the efficiency of algorithms. \n",
        "* There are best, average and worst case scenario for an algorithm in \n",
        "terms of run time notations.\n",
        "* Big O - Complexity that is going to be less or equal to the worst case.\n",
        "* Big Omega- Complexity at least more than the best case scenario.\n",
        "* Big Theta- Within bounds of best and worst case scenario.\n",
        "* O(1) Constant, O(N) Linear, O(LogN) Logarithmic, O(N2) Quadratic,  O(2^N) Exponential."
      ]
    },
    {
      "cell_type": "markdown",
      "metadata": {
        "id": "6gKf_QcK0kJi"
      },
      "source": [
        "#Space Complexity\n",
        "\n",
        "* Space taken up in memory during processing."
      ]
    },
    {
      "cell_type": "markdown",
      "metadata": {
        "id": "541-8EexEUan"
      },
      "source": [
        "# Add runtimes when processes are independent, multiply them when are interconnected. {Remember PerCom rule}"
      ]
    },
    {
      "cell_type": "markdown",
      "metadata": {
        "id": "en0xVruqGNOX"
      },
      "source": [
        "# How to measure the codes using Big O\n",
        "5 Rules \n",
        " \n",
        "* You should be warned that some declarations may include initializations and some of these may be complex enough to factor into the efficiency of an algorithm.\n",
        "\n",
        "* Rule 1 Any assignment statements and if statements that are executed \n",
        "once regardless of the size of the problem O(1)\n",
        "* Rule 2 A simple “for” loop from 0 to n ( with no internal loops) O(n)\n",
        "* Rule 3 A nested loop of the same type takes quadratic time complexity O(n^2)\n",
        "* Rule 4 A loop, in which the controlling parameter is divided by two at \n",
        "each step O(log n)\n",
        "* Rule 5 When dealing with multiple statements, just add them up.\n",
        "\n"
      ]
    },
    {
      "cell_type": "markdown",
      "metadata": {
        "id": "tUh57q3AHG8n"
      },
      "source": [
        "* O(n) + O(1)= O(n)\n",
        "* 2O(n)= O(n)"
      ]
    },
    {
      "cell_type": "markdown",
      "metadata": {
        "id": "H0zZDha-HP24"
      },
      "source": [
        "#Measure Recursive Algorithm"
      ]
    },
    {
      "cell_type": "code",
      "metadata": {
        "id": "heOrwYlUGW-h"
      },
      "source": [
        "def findMaxNumRec( sampleArray, n): #n is the length of array -------------------------> M(n) {time complexity}\n",
        "  if n==1:    #------------------------------------------------------------------------> O(1) {condition check}\n",
        "    return sampleArray[0]           #--------------------------------------------------> O(1)\n",
        "  else:\n",
        "    return max(sampleArray[n-1], findMaxNumRec(sampleArray, n-1)) # --------------------> M(n-1)"
      ],
      "execution_count": 1,
      "outputs": []
    },
    {
      "cell_type": "markdown",
      "metadata": {
        "id": "zeFbG9vGRYLa"
      },
      "source": [
        "* M(n)= O(1)+ M(n-1)\n",
        "* M(1)= O(1) {=1}\n",
        "* M(n-1)= O(1)+ M(n-1-1)\n",
        "* M(n-2)= O(1)+ M(n-2-1)\n",
        "* Therefore,\n",
        "M(n)= 1+M(n-1) = 1+[1+M(n-2)] = 2+M(n-2) = 3+M(n-3)\n",
        "*a+ M(n-a)= n-1+ M(n-(n-1))= n-1+M(1)= n-1+O(1)= n-1+1=n\n",
        "\n",
        "Therefore the time complexity of above recursive algorithm is 'n'"
      ]
    },
    {
      "cell_type": "markdown",
      "metadata": {
        "id": "sgX6Xzm-Slan"
      },
      "source": [
        "## Recursive algorithm that makes multiple calls."
      ]
    },
    {
      "cell_type": "code",
      "metadata": {
        "id": "bWtBCFWERXKp"
      },
      "source": [
        "def f(n):\n",
        "  if n<=1:\n",
        "    return 1\n",
        "  return f(n-1)+f(n-1)"
      ],
      "execution_count": 2,
      "outputs": []
    },
    {
      "cell_type": "markdown",
      "metadata": {
        "id": "DKAcDknQUcGT"
      },
      "source": [
        "O(2^n) since at every depth level the function calls itself twice."
      ]
    },
    {
      "cell_type": "markdown",
      "metadata": {
        "id": "smJGaKFkU2Bh"
      },
      "source": [
        ""
      ]
    },
    {
      "cell_type": "code",
      "metadata": {
        "id": "77-TGOO2UXFq"
      },
      "source": [
        ""
      ],
      "execution_count": null,
      "outputs": []
    }
  ]
}