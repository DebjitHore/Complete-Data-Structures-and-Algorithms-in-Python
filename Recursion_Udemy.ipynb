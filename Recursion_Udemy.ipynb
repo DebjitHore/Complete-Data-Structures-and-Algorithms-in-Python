{
  "nbformat": 4,
  "nbformat_minor": 0,
  "metadata": {
    "colab": {
      "name": "Recursion_Udemy.ipynb",
      "provenance": [],
      "authorship_tag": "ABX9TyOEPEGQWzAUsWlL5aTBopFr",
      "include_colab_link": true
    },
    "kernelspec": {
      "name": "python3",
      "display_name": "Python 3"
    },
    "language_info": {
      "name": "python"
    }
  },
  "cells": [
    {
      "cell_type": "markdown",
      "metadata": {
        "id": "view-in-github",
        "colab_type": "text"
      },
      "source": [
        "<a href=\"https://colab.research.google.com/github/DebjitHore/Complete-Data-Structures-and-Algorithms-in-Python/blob/main/Recursion_Udemy.ipynb\" target=\"_parent\"><img src=\"https://colab.research.google.com/assets/colab-badge.svg\" alt=\"Open In Colab\"/></a>"
      ]
    },
    {
      "cell_type": "markdown",
      "metadata": {
        "id": "ma3QyMQpLKj0"
      },
      "source": [
        "Recursion- A way of solving a problem by having a function call itself. Performing the same operation with different inputs. Usually smaller inputs for convergence, with a base condition to prevent infinite loop.       \n",
        "IRL example- Russian Doll."
      ]
    },
    {
      "cell_type": "markdown",
      "metadata": {
        "id": "Qzz6-fXPOdnv"
      },
      "source": [
        "#Pseudocode"
      ]
    },
    {
      "cell_type": "code",
      "metadata": {
        "id": "X9WhvmZdCGlT"
      },
      "source": [
        "def openRussianDoll(doll):\n",
        "  if doll==1: #Smallest Doll\n",
        "    print('All Dolls opened')\n",
        "  else:\n",
        "    openRussianDoll(doll-1)\n"
      ],
      "execution_count": 12,
      "outputs": []
    },
    {
      "cell_type": "markdown",
      "metadata": {
        "id": "_xGgrynTSuMm"
      },
      "source": [
        "#Recursion logic.\n",
        "\n",
        "Stack Memory is used and last in, first out is followed.                        \n",
        "Recursion is less time and space efficient as against iteration. But it is easier to code."
      ]
    },
    {
      "cell_type": "markdown",
      "metadata": {
        "id": "GIZ_G2-Obp17"
      },
      "source": [
        "#How to write Recursion"
      ]
    },
    {
      "cell_type": "markdown",
      "metadata": {
        "id": "xmjX5tEwbSrn"
      },
      "source": [
        "##Factorial"
      ]
    },
    {
      "cell_type": "code",
      "metadata": {
        "id": "0y-7jz5MOwUl"
      },
      "source": [
        "def factorial(n):\n",
        "  assert n>=0 and int (n)==n, 'The number must be positive integer only'\n",
        "  if n in [0,1]:\n",
        "    return 1\n",
        "  else:\n",
        "    return n*factorial(n-1)"
      ],
      "execution_count": 13,
      "outputs": []
    },
    {
      "cell_type": "code",
      "metadata": {
        "colab": {
          "base_uri": "https://localhost:8080/"
        },
        "id": "LCIkChXDc4_7",
        "outputId": "ca489734-6b32-4a3d-d1ed-92e9e3b9dfe1"
      },
      "source": [
        "factorial(5)"
      ],
      "execution_count": 14,
      "outputs": [
        {
          "output_type": "execute_result",
          "data": {
            "text/plain": [
              "120"
            ]
          },
          "metadata": {},
          "execution_count": 14
        }
      ]
    },
    {
      "cell_type": "markdown",
      "metadata": {
        "id": "9UQpfHUCbUwI"
      },
      "source": [
        "##Fibonnaci"
      ]
    },
    {
      "cell_type": "markdown",
      "metadata": {
        "id": "tH_8JARwi10C"
      },
      "source": [
        "n-th term of a Fibonnaci series"
      ]
    },
    {
      "cell_type": "code",
      "metadata": {
        "id": "j8mB4geYdHbT"
      },
      "source": [
        "fib_list=[]\n",
        "def fibonacci(n):\n",
        "  assert n>=0 and int (n) ==n, 'The number must be integer and positive'\n",
        "  if n in [0,1]:\n",
        "    return n\n",
        "  else:\n",
        "    return fibonacci(n-1)+fibonacci(n-2)"
      ],
      "execution_count": 15,
      "outputs": []
    },
    {
      "cell_type": "code",
      "metadata": {
        "colab": {
          "base_uri": "https://localhost:8080/"
        },
        "id": "WMLvF03rcAVQ",
        "outputId": "20a13d41-53e4-46d9-c0f1-74ebb9e1d89a"
      },
      "source": [
        "fibonacci(5)"
      ],
      "execution_count": 16,
      "outputs": [
        {
          "output_type": "execute_result",
          "data": {
            "text/plain": [
              "5"
            ]
          },
          "metadata": {},
          "execution_count": 16
        }
      ]
    },
    {
      "cell_type": "markdown",
      "metadata": {
        "id": "KlU34r2gi5yN"
      },
      "source": [
        "Fibonacci series containing of n terms"
      ]
    },
    {
      "cell_type": "code",
      "metadata": {
        "colab": {
          "base_uri": "https://localhost:8080/"
        },
        "id": "q9RSaJIdcDiK",
        "outputId": "f30bc7d7-2cc4-43e6-86c4-f87c9dc65284"
      },
      "source": [
        "a=0 \n",
        "b=1\n",
        "fib_list=[0,1]\n",
        "n= int(input('No of terms you want'))\n",
        "assert int (n)==n and n>0\n",
        "i=0\n",
        "if n==1:\n",
        "  print(0)\n",
        "else:\n",
        "  while i<n-2:\n",
        "    temp=a+b\n",
        "    fib_list.append(temp)\n",
        "    a=b\n",
        "    b=temp\n",
        "    i+=1\n",
        "  print(fib_list)"
      ],
      "execution_count": 17,
      "outputs": [
        {
          "output_type": "stream",
          "name": "stdout",
          "text": [
            "No of terms you want15\n",
            "[0, 1, 1, 2, 3, 5, 8, 13, 21, 34, 55, 89, 144, 233, 377]\n"
          ]
        }
      ]
    },
    {
      "cell_type": "markdown",
      "metadata": {
        "id": "iijpydG0nKMV"
      },
      "source": [
        "##Sum of digits of an integer number\n"
      ]
    },
    {
      "cell_type": "code",
      "metadata": {
        "id": "2ag8gwgknJlL"
      },
      "source": [
        "def sumOfDigits(n):\n",
        "  sum=0\n",
        "  assert int (n) == n and n>=0, 'Must be a positive integer'\n",
        "  while n>0:\n",
        "    return n%10 +sumOfDigits(int (n/10))\n",
        "  else:\n",
        "    return 0"
      ],
      "execution_count": 18,
      "outputs": []
    },
    {
      "cell_type": "code",
      "metadata": {
        "colab": {
          "base_uri": "https://localhost:8080/"
        },
        "id": "bOHYaeQ5oCth",
        "outputId": "6b530dbe-b395-4247-88c6-602757afb4ea"
      },
      "source": [
        "sumOfDigits(546)"
      ],
      "execution_count": 19,
      "outputs": [
        {
          "output_type": "execute_result",
          "data": {
            "text/plain": [
              "15"
            ]
          },
          "metadata": {},
          "execution_count": 19
        }
      ]
    },
    {
      "cell_type": "code",
      "metadata": {
        "id": "XoHgIA4-oFdj"
      },
      "source": [
        "#sumOfDigits(-87)"
      ],
      "execution_count": 20,
      "outputs": []
    },
    {
      "cell_type": "markdown",
      "metadata": {
        "id": "u-6_QTSypvAI"
      },
      "source": [
        "##Power of a number"
      ]
    },
    {
      "cell_type": "code",
      "metadata": {
        "id": "gfUZzF54pXGD"
      },
      "source": [
        "def powerOfNumber(x,n):\n",
        "  assert int (n) ==n and n >=0\n",
        "  if n==0:\n",
        "    return 1\n",
        "  if n==1:\n",
        "    return x\n",
        "  else:\n",
        "    return x*powerOfNumber(x, n-1)\n",
        "  "
      ],
      "execution_count": 21,
      "outputs": []
    },
    {
      "cell_type": "code",
      "metadata": {
        "colab": {
          "base_uri": "https://localhost:8080/"
        },
        "id": "QYpVQngaqUf_",
        "outputId": "3d53680c-efee-415a-b46e-c89f638d5577"
      },
      "source": [
        "powerOfNumber( -2, 5)"
      ],
      "execution_count": 22,
      "outputs": [
        {
          "output_type": "execute_result",
          "data": {
            "text/plain": [
              "-32"
            ]
          },
          "metadata": {},
          "execution_count": 22
        }
      ]
    },
    {
      "cell_type": "code",
      "metadata": {
        "id": "LgDGipW4qW_C"
      },
      "source": [
        "def gcd(a, b):\n",
        "  assert int (a) == a and int (b) ==b, 'Integer numbers only'\n",
        "  if a%b==0:\n",
        "    return b\n",
        "  else:\n",
        "    return gcd(b, a%b)"
      ],
      "execution_count": 23,
      "outputs": []
    },
    {
      "cell_type": "code",
      "metadata": {
        "colab": {
          "base_uri": "https://localhost:8080/"
        },
        "id": "mhVAJHM8wl_5",
        "outputId": "5bc0fdc1-e90f-436b-8e09-ddba2f20b6f8"
      },
      "source": [
        "print(gcd(48,18))"
      ],
      "execution_count": 24,
      "outputs": [
        {
          "output_type": "stream",
          "name": "stdout",
          "text": [
            "6\n"
          ]
        }
      ]
    },
    {
      "cell_type": "markdown",
      "metadata": {
        "id": "isdRmIW7x9ar"
      },
      "source": [
        "## Decimal to Binary"
      ]
    },
    {
      "cell_type": "code",
      "metadata": {
        "id": "IbSCs5lXwoFY"
      },
      "source": [
        "def decToBinary(n):\n",
        "  assert int (n) ==n\n",
        "  if n is 0: \n",
        "    return 0\n",
        "  if n is 1:\n",
        "    return 1\n",
        "  else:\n",
        "    return (int (n%2))+10*decToBinary(int (n/2))\n"
      ],
      "execution_count": 25,
      "outputs": []
    },
    {
      "cell_type": "code",
      "metadata": {
        "colab": {
          "base_uri": "https://localhost:8080/"
        },
        "id": "vU-4mRNHz8SK",
        "outputId": "39e5a9a9-4bb3-4b9d-f133-8467c49d40bf"
      },
      "source": [
        "decToBinary(13)"
      ],
      "execution_count": 26,
      "outputs": [
        {
          "output_type": "execute_result",
          "data": {
            "text/plain": [
              "1101"
            ]
          },
          "metadata": {},
          "execution_count": 26
        }
      ]
    },
    {
      "cell_type": "markdown",
      "metadata": {
        "id": "7gAKgIa911oW"
      },
      "source": [
        "##Reverse of a number using Recursion"
      ]
    },
    {
      "cell_type": "code",
      "metadata": {
        "id": "95FEyzQN0CcD"
      },
      "source": [
        "def reverseNumber(n, r):\n",
        "  #assert int (n) == n and n >0\n",
        "  if n ==0:\n",
        "    return r\n",
        "  else:\n",
        "    return reverseNumber( int ( n/10), r*10+n%10)\n",
        "\n"
      ],
      "execution_count": 27,
      "outputs": []
    },
    {
      "cell_type": "code",
      "metadata": {
        "colab": {
          "base_uri": "https://localhost:8080/"
        },
        "id": "Mtp4vOQj3G9H",
        "outputId": "d0726d2c-cb75-4fc4-eb61-f22abb1eed80"
      },
      "source": [
        "reverseNumber(647, 0)"
      ],
      "execution_count": 28,
      "outputs": [
        {
          "output_type": "execute_result",
          "data": {
            "text/plain": [
              "746"
            ]
          },
          "metadata": {},
          "execution_count": 28
        }
      ]
    },
    {
      "cell_type": "markdown",
      "metadata": {
        "id": "mmn53d42NQKl"
      },
      "source": [
        "#Largest number in an Array."
      ]
    },
    {
      "cell_type": "code",
      "metadata": {
        "id": "t6O9znvA3JhG"
      },
      "source": [
        "def findMaxNumRec( sampleArray, n): #n is the length of array\n",
        "  if n==1:\n",
        "    return sampleArray[0]\n",
        "  else:\n",
        "    return max(sampleArray[n-1], findMaxNumRec(sampleArray, n-1))\n"
      ],
      "execution_count": 29,
      "outputs": []
    },
    {
      "cell_type": "code",
      "metadata": {
        "colab": {
          "base_uri": "https://localhost:8080/"
        },
        "id": "9YWnOjR6OZoK",
        "outputId": "aa24f69d-142b-42dd-d874-6e4130cdc25f"
      },
      "source": [
        "findMaxNumRec([11, 14, 7, 9, 3, 12], 6)"
      ],
      "execution_count": 30,
      "outputs": [
        {
          "output_type": "execute_result",
          "data": {
            "text/plain": [
              "14"
            ]
          },
          "metadata": {},
          "execution_count": 30
        }
      ]
    },
    {
      "cell_type": "code",
      "metadata": {
        "id": "bewGxAXXOkBN"
      },
      "source": [
        ""
      ],
      "execution_count": 30,
      "outputs": []
    }
  ]
}