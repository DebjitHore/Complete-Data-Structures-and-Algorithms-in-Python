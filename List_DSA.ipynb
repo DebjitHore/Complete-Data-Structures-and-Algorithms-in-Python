{
  "nbformat": 4,
  "nbformat_minor": 0,
  "metadata": {
    "colab": {
      "name": "List_DSA.ipynb",
      "provenance": [],
      "collapsed_sections": [],
      "authorship_tag": "ABX9TyO49OxuUZZeritkWilkxFcL",
      "include_colab_link": true
    },
    "kernelspec": {
      "name": "python3",
      "display_name": "Python 3"
    },
    "language_info": {
      "name": "python"
    }
  },
  "cells": [
    {
      "cell_type": "markdown",
      "metadata": {
        "id": "view-in-github",
        "colab_type": "text"
      },
      "source": [
        "<a href=\"https://colab.research.google.com/github/DebjitHore/Complete-Data-Structures-and-Algorithms-in-Python/blob/main/List_DSA.ipynb\" target=\"_parent\"><img src=\"https://colab.research.google.com/assets/colab-badge.svg\" alt=\"Open In Colab\"/></a>"
      ]
    },
    {
      "cell_type": "markdown",
      "metadata": {
        "id": "1QtREjpbVjc3"
      },
      "source": [
        "# Lists\n",
        "* List in Python is a built in data structure. { like sets, dictionaries}\n",
        "* Holds an ordered collection of items.\n",
        "* Lists and arrays are different in the sense that elements in a list don't need to be of the same type.\n",
        "* Nested list is taken to be one element.\n",
        "* Lists are ordered."
      ]
    },
    {
      "cell_type": "code",
      "metadata": {
        "colab": {
          "base_uri": "https://localhost:8080/"
        },
        "id": "o8riNKe6WdhS",
        "outputId": "4181babd-c08d-4347-f3db-e025d068d1c2"
      },
      "source": [
        "stringIntList= ['Debjit', 2.56, 4, 'c']\n",
        "print(stringIntList)"
      ],
      "execution_count": null,
      "outputs": [
        {
          "output_type": "stream",
          "name": "stdout",
          "text": [
            "['Debjit', 2.56, 4, 'c']\n"
          ]
        }
      ]
    },
    {
      "cell_type": "markdown",
      "metadata": {
        "id": "7Fge8w2dXgy2"
      },
      "source": [
        "## Accessing/Traversing list"
      ]
    },
    {
      "cell_type": "code",
      "metadata": {
        "id": "ttecYGC3XCbW"
      },
      "source": [
        "# Same as array operation. Skipped."
      ],
      "execution_count": null,
      "outputs": []
    },
    {
      "cell_type": "code",
      "metadata": {
        "colab": {
          "base_uri": "https://localhost:8080/"
        },
        "id": "9mf2gO-qYyeV",
        "outputId": "f9e15fb2-fb20-4896-f8c9-f03017107e0d"
      },
      "source": [
        "# Check to see if element exists.\n",
        "\n",
        "print('Debjit' in stringIntList)"
      ],
      "execution_count": null,
      "outputs": [
        {
          "output_type": "stream",
          "name": "stdout",
          "text": [
            "True\n"
          ]
        }
      ]
    },
    {
      "cell_type": "code",
      "metadata": {
        "colab": {
          "base_uri": "https://localhost:8080/"
        },
        "id": "JK6g20LDZudO",
        "outputId": "306bdc0b-c01a-468f-c78f-b7430c064f4a"
      },
      "source": [
        "for i in stringIntList:\n",
        "  print(i)"
      ],
      "execution_count": null,
      "outputs": [
        {
          "output_type": "stream",
          "name": "stdout",
          "text": [
            "Debjit\n",
            "2.56\n",
            "4\n",
            "c\n"
          ]
        }
      ]
    },
    {
      "cell_type": "markdown",
      "metadata": {
        "id": "oi0Scw_qaSv6"
      },
      "source": [
        "## Update/Insert elements in a list."
      ]
    },
    {
      "cell_type": "code",
      "metadata": {
        "colab": {
          "base_uri": "https://localhost:8080/"
        },
        "id": "jDOC80bLXsA-",
        "outputId": "101be1ab-d2c7-4f0a-e2ff-01ea474786f1"
      },
      "source": [
        "stringIntList [2]= 4.0\n",
        "print(stringIntList) #Time and Space Complexity of updating a list element is O(1)."
      ],
      "execution_count": null,
      "outputs": [
        {
          "output_type": "stream",
          "name": "stdout",
          "text": [
            "['Debjit', 2.56, 4.0, 'c']\n"
          ]
        }
      ]
    },
    {
      "cell_type": "code",
      "metadata": {
        "colab": {
          "base_uri": "https://localhost:8080/"
        },
        "id": "vH7ez6ZIbeRT",
        "outputId": "1ac87358-1774-451f-f735-bac6f1cb5f91"
      },
      "source": [
        "stringIntList.insert(0, 11) #.insert(index, object) O(n) time complexity because all elements needs to shift\n",
        "stringIntList  "
      ],
      "execution_count": null,
      "outputs": [
        {
          "output_type": "execute_result",
          "data": {
            "text/plain": [
              "[11, 'Debjit', 2.56, 4.0, 'c']"
            ]
          },
          "metadata": {},
          "execution_count": 7
        }
      ]
    },
    {
      "cell_type": "code",
      "metadata": {
        "colab": {
          "base_uri": "https://localhost:8080/"
        },
        "id": "CuS6tHgrckVu",
        "outputId": "8eb60e59-a4de-4dfb-c90e-be3819a66f19"
      },
      "source": [
        "stringIntList.append(55) #Added to end, efficient. O(1) time complexity and space\n",
        "stringIntList"
      ],
      "execution_count": null,
      "outputs": [
        {
          "output_type": "execute_result",
          "data": {
            "text/plain": [
              "[11, 'Debjit', 2.56, 4.0, 'c', 55]"
            ]
          },
          "metadata": {},
          "execution_count": 8
        }
      ]
    },
    {
      "cell_type": "code",
      "metadata": {
        "colab": {
          "base_uri": "https://localhost:8080/"
        },
        "id": "-8Uml1U5dIYe",
        "outputId": "09f90da6-ec2c-4db3-aa3e-1951dc4155d2"
      },
      "source": [
        " newList= [1,2,3,4] #O(n) time complexity where n is the number of items in newList\n",
        " stringIntList.extend(newList)\n",
        " stringIntList"
      ],
      "execution_count": null,
      "outputs": [
        {
          "output_type": "execute_result",
          "data": {
            "text/plain": [
              "[11, 'Debjit', 2.56, 4.0, 'c', 55, 1, 2, 3, 4]"
            ]
          },
          "metadata": {},
          "execution_count": 9
        }
      ]
    },
    {
      "cell_type": "markdown",
      "metadata": {
        "id": "C5iL2MErdsD8"
      },
      "source": [
        "## Deletion of elements in a list.\n",
        "\n",
        "* Space Complexity is always O(1)."
      ]
    },
    {
      "cell_type": "code",
      "metadata": {
        "id": "7_JgjTyxdfwf"
      },
      "source": [
        "# Slicing of lists."
      ],
      "execution_count": null,
      "outputs": []
    },
    {
      "cell_type": "code",
      "metadata": {
        "colab": {
          "base_uri": "https://localhost:8080/"
        },
        "id": "PqP5McR1eB1t",
        "outputId": "c1c146bf-fa1a-4bdd-ede5-d94dce1da580"
      },
      "source": [
        "# .pop .remove .delete\n",
        "stringIntList.pop(4) #'c' should be gone. If no index is given it pops the last elements of the list. O(1) if no index is provided, O(n) otherwise\n",
        "stringIntList "
      ],
      "execution_count": null,
      "outputs": [
        {
          "output_type": "execute_result",
          "data": {
            "text/plain": [
              "[11, 'Debjit', 2.56, 4.0, 55, 1, 2, 3, 4]"
            ]
          },
          "metadata": {},
          "execution_count": 11
        }
      ]
    },
    {
      "cell_type": "code",
      "metadata": {
        "colab": {
          "base_uri": "https://localhost:8080/"
        },
        "id": "IAsTSzJjeanX",
        "outputId": "e6de112e-0ae5-43d4-8494-11b21948a18c"
      },
      "source": [
        "del stringIntList[0:2] #index 0 and 1 elements are deleted. Deletion based on list splicing.\n",
        "stringIntList           #O(n) time complexity"
      ],
      "execution_count": null,
      "outputs": [
        {
          "output_type": "execute_result",
          "data": {
            "text/plain": [
              "[2.56, 4.0, 55, 1, 2, 3, 4]"
            ]
          },
          "metadata": {},
          "execution_count": 12
        }
      ]
    },
    {
      "cell_type": "code",
      "metadata": {
        "colab": {
          "base_uri": "https://localhost:8080/"
        },
        "id": "RBC0DjZ2fXL3",
        "outputId": "881c07c8-3749-4e4a-affb-431102fd77e1"
      },
      "source": [
        "#remove is useful when you know which element to delete.\n",
        "stringIntList.remove(55)\n",
        "stringIntList         # O(n) time complexity"
      ],
      "execution_count": null,
      "outputs": [
        {
          "output_type": "execute_result",
          "data": {
            "text/plain": [
              "[2.56, 4.0, 1, 2, 3, 4]"
            ]
          },
          "metadata": {},
          "execution_count": 13
        }
      ]
    },
    {
      "cell_type": "markdown",
      "metadata": {
        "id": "J66BTRKghlLK"
      },
      "source": [
        "## Search for element in array."
      ]
    },
    {
      "cell_type": "code",
      "metadata": {
        "id": "q8DknwZ6fYsa"
      },
      "source": [
        "def searchList(i):\n",
        "  if i in stringIntList:                      #O(n) time complexity.\n",
        "    print(stringIntList.index(i))\n",
        "  else:\n",
        "    print('Not present in the list')"
      ],
      "execution_count": null,
      "outputs": []
    },
    {
      "cell_type": "code",
      "metadata": {
        "id": "O1-tDqsaiJpP",
        "colab": {
          "base_uri": "https://localhost:8080/"
        },
        "outputId": "ee8bfd6b-4bee-4712-8c16-85de2fb0f6aa"
      },
      "source": [
        "searchList(4)"
      ],
      "execution_count": null,
      "outputs": [
        {
          "output_type": "stream",
          "name": "stdout",
          "text": [
            "1\n"
          ]
        }
      ]
    },
    {
      "cell_type": "markdown",
      "metadata": {
        "id": "2VBRkEA3mDU0"
      },
      "source": [
        "## List operations/ List functions"
      ]
    },
    {
      "cell_type": "code",
      "metadata": {
        "id": "htx0dR-sE6z7"
      },
      "source": [
        "# '+' , '*'\n",
        "#.split(delimiter) <string to list>, delimiter .join() <list to string conversion>"
      ],
      "execution_count": null,
      "outputs": []
    },
    {
      "cell_type": "markdown",
      "metadata": {
        "id": "b5K1cE89odcU"
      },
      "source": [
        "## Common pitfalls when using Lists."
      ]
    },
    {
      "cell_type": "code",
      "metadata": {
        "id": "GQwiZVPdoFOj"
      },
      "source": [
        "#Make copy before modifying original list.\n",
        "# Keep in mind which functions operate on the original list and which ones just return a modified copy of the list."
      ],
      "execution_count": null,
      "outputs": []
    },
    {
      "cell_type": "markdown",
      "metadata": {
        "id": "h5rMthPkycUO"
      },
      "source": [
        "## Arrays versus Lists\n",
        "\n",
        "* Both are mutable and iterable. Also slicable.\n",
        "* Arrays are better optimised for arithmatic operations.\n",
        "* Element types can be different in lists but not in arrays < must be same >\n"
      ]
    },
    {
      "cell_type": "markdown",
      "metadata": {
        "id": "TMal6B6GzYG-"
      },
      "source": [
        "## Time and Space Complexity."
      ]
    },
    {
      "cell_type": "markdown",
      "metadata": {
        "id": "3hnoUEh7zhrM"
      },
      "source": [
        "![Screenshot 2021-10-05 at 3.04.23 PM.png](data:image/png;base64,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)"
      ]
    },
    {
      "cell_type": "markdown",
      "metadata": {
        "id": "67OAjR3O78TW"
      },
      "source": [
        "# Cracking Array/List interview questions."
      ]
    },
    {
      "cell_type": "markdown",
      "metadata": {
        "id": "I4xC6sKn9e-w"
      },
      "source": [
        "## Missing number in a list."
      ]
    },
    {
      "cell_type": "code",
      "metadata": {
        "colab": {
          "base_uri": "https://localhost:8080/"
        },
        "id": "fsskOcoxQrSZ",
        "outputId": "5aaa2459-2585-461b-ed36-e70b6bd9e5c1"
      },
      "source": [
        "import numpy as np\n",
        "mylist= list(np.linspace(1, 100, 100, 'int'))\n",
        "l= len(mylist)\n",
        "mylist.pop(72)"
      ],
      "execution_count": null,
      "outputs": [
        {
          "output_type": "execute_result",
          "data": {
            "text/plain": [
              "73.0"
            ]
          },
          "metadata": {},
          "execution_count": 48
        }
      ]
    },
    {
      "cell_type": "code",
      "metadata": {
        "id": "rs7hphBVyMY2"
      },
      "source": [
        "def missingNumber( my_List, n):\n",
        "  sum1= (n*(n+1))/2\n",
        "  sum2=0\n",
        "  for i in my_List:\n",
        "    sum2+=i\n",
        "  return (sum1-sum2)"
      ],
      "execution_count": null,
      "outputs": []
    },
    {
      "cell_type": "code",
      "metadata": {
        "colab": {
          "base_uri": "https://localhost:8080/"
        },
        "id": "NmM0xFV2S6Dv",
        "outputId": "9b5b79e4-0c33-4fd4-a6f2-9cf2ac1265a9"
      },
      "source": [
        "missingNumber(mylist, l)"
      ],
      "execution_count": null,
      "outputs": [
        {
          "output_type": "execute_result",
          "data": {
            "text/plain": [
              "73.0"
            ]
          },
          "metadata": {},
          "execution_count": 58
        }
      ]
    },
    {
      "cell_type": "markdown",
      "metadata": {
        "id": "k5o8f4qRbSnv"
      },
      "source": [
        "## Maximum product in an array."
      ]
    },
    {
      "cell_type": "code",
      "metadata": {
        "id": "jjRtX-I3TSS3"
      },
      "source": [
        "myArray= np.array([1,43,54,6,23,9,19,76,34,66,14,9,3])\n"
      ],
      "execution_count": null,
      "outputs": []
    },
    {
      "cell_type": "code",
      "metadata": {
        "colab": {
          "base_uri": "https://localhost:8080/"
        },
        "id": "2mv-i79xbpGE",
        "outputId": "a6b781c2-2bf3-47f1-dccf-a054b30a988a"
      },
      "source": [
        "prodMax=0\n",
        "pairs=[]\n",
        "for i in range(0, len(myArray)-2):\n",
        "  for j in range(i+1, len(myArray)-1):\n",
        "    if myArray[i]*myArray[j]>prodMax:\n",
        "      prodMax= myArray[i]*myArray[j]\n",
        "      pairs= [myArray[i], myArray[j]]\n",
        "    else:\n",
        "      continue\n",
        "prodMax"
      ],
      "execution_count": null,
      "outputs": [
        {
          "output_type": "execute_result",
          "data": {
            "text/plain": [
              "5016"
            ]
          },
          "metadata": {},
          "execution_count": 67
        }
      ]
    },
    {
      "cell_type": "code",
      "metadata": {
        "colab": {
          "base_uri": "https://localhost:8080/"
        },
        "id": "6yHkl3wRc7Jt",
        "outputId": "f7623bdb-e2eb-43da-beb6-3ca3b0049bee"
      },
      "source": [
        "pairs"
      ],
      "execution_count": null,
      "outputs": [
        {
          "output_type": "execute_result",
          "data": {
            "text/plain": [
              "[76, 66]"
            ]
          },
          "metadata": {},
          "execution_count": 68
        }
      ]
    },
    {
      "cell_type": "markdown",
      "metadata": {
        "id": "0jCSaelGguwh"
      },
      "source": [
        "## Check for duplicates\n",
        "\n",
        "* Leetcode 217"
      ]
    },
    {
      "cell_type": "code",
      "metadata": {
        "id": "7yqi5-IEeM8b"
      },
      "source": [
        "class Solution:\n",
        "    def containsDuplicate(self, nums: List[int]) -> bool:\n",
        "        emptyList= []\n",
        "        for i in nums:\n",
        "            if i in emptyList:\n",
        "                return True\n",
        "            else:\n",
        "                emptyList.append(i)\n",
        "                continue\n",
        "        return False"
      ],
      "execution_count": null,
      "outputs": []
    },
    {
      "cell_type": "code",
      "metadata": {
        "id": "NQK9UOg6qeCr"
      },
      "source": [
        "class Solution:\n",
        "    def containsDuplicate(self, nums: List[int]) -> bool:\n",
        "        mySet= set(nums)\n",
        "        if len(mySet)== len(nums):\n",
        "            return False\n",
        "        return True"
      ],
      "execution_count": null,
      "outputs": []
    },
    {
      "cell_type": "markdown",
      "metadata": {
        "id": "k096pcnrpE1N"
      },
      "source": [
        "## Permutation"
      ]
    },
    {
      "cell_type": "code",
      "metadata": {
        "id": "SXUUhgBugx1U"
      },
      "source": [
        "# Just compare sets <my way> \n",
        "# Sort lists and compare them. Tutor's way."
      ],
      "execution_count": null,
      "outputs": []
    },
    {
      "cell_type": "markdown",
      "metadata": {
        "id": "V7NczG06p8Ax"
      },
      "source": [
        "## Rotate matrix/image by 90\n",
        "* Leetcode48"
      ]
    },
    {
      "cell_type": "code",
      "metadata": {
        "colab": {
          "base_uri": "https://localhost:8080/"
        },
        "id": "N2ly1p5Lp67L",
        "outputId": "1ca4b5dd-f619-46dc-da15-1f0730f2e880"
      },
      "source": [
        "matrix=  [[1,2,3],[4,5,6],[7,8,9]]\n",
        "\n",
        "np.transpose(matrix)"
      ],
      "execution_count": null,
      "outputs": [
        {
          "output_type": "execute_result",
          "data": {
            "text/plain": [
              "array([[1, 4, 7],\n",
              "       [2, 5, 8],\n",
              "       [3, 6, 9]])"
            ]
          },
          "metadata": {},
          "execution_count": 72
        }
      ]
    },
    {
      "cell_type": "code",
      "metadata": {
        "colab": {
          "base_uri": "https://localhost:8080/",
          "height": 164
        },
        "id": "lGfpianHtswe",
        "outputId": "8123bb19-2702-4600-8bea-3b50b775adcc"
      },
      "source": [
        "shape(matrix)"
      ],
      "execution_count": null,
      "outputs": [
        {
          "output_type": "error",
          "ename": "NameError",
          "evalue": "ignored",
          "traceback": [
            "\u001b[0;31m---------------------------------------------------------------------------\u001b[0m",
            "\u001b[0;31mNameError\u001b[0m                                 Traceback (most recent call last)",
            "\u001b[0;32m<ipython-input-77-357cf1f1bb79>\u001b[0m in \u001b[0;36m<module>\u001b[0;34m()\u001b[0m\n\u001b[0;32m----> 1\u001b[0;31m \u001b[0mshape\u001b[0m\u001b[0;34m(\u001b[0m\u001b[0mmatrix\u001b[0m\u001b[0;34m)\u001b[0m\u001b[0;34m\u001b[0m\u001b[0;34m\u001b[0m\u001b[0m\n\u001b[0m",
            "\u001b[0;31mNameError\u001b[0m: name 'shape' is not defined"
          ]
        }
      ]
    },
    {
      "cell_type": "markdown",
      "metadata": {
        "id": "pVX4YsLms-2r"
      },
      "source": [
        "# Challenging problems in Arrays/Lists"
      ]
    },
    {
      "cell_type": "code",
      "metadata": {
        "id": "0Fttjr9_rpgB"
      },
      "source": [
        ""
      ],
      "execution_count": null,
      "outputs": []
    }
  ]
}