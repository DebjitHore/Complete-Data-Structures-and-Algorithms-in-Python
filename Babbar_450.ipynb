{
  "nbformat": 4,
  "nbformat_minor": 0,
  "metadata": {
    "colab": {
      "provenance": [],
      "authorship_tag": "ABX9TyO6N88eMiTwZOLZFOVrpRgl",
      "include_colab_link": true
    },
    "kernelspec": {
      "name": "python3",
      "display_name": "Python 3"
    },
    "language_info": {
      "name": "python"
    }
  },
  "cells": [
    {
      "cell_type": "markdown",
      "metadata": {
        "id": "view-in-github",
        "colab_type": "text"
      },
      "source": [
        "<a href=\"https://colab.research.google.com/github/DebjitHore/Complete-Data-Structures-and-Algorithms-in-Python/blob/main/Babbar_450.ipynb\" target=\"_parent\"><img src=\"https://colab.research.google.com/assets/colab-badge.svg\" alt=\"Open In Colab\"/></a>"
      ]
    },
    {
      "cell_type": "markdown",
      "source": [
        "# Array"
      ],
      "metadata": {
        "id": "9TT_peR2rAmH"
      }
    },
    {
      "cell_type": "markdown",
      "source": [
        "## Reverse Array"
      ],
      "metadata": {
        "id": "-LToRZFWeXme"
      }
    },
    {
      "cell_type": "code",
      "execution_count": 18,
      "metadata": {
        "id": "GEbCG0FxeO2x"
      },
      "outputs": [],
      "source": [
        "def reverseArray(arr, start, end):\n",
        "  if start>=end:\n",
        "    return\n",
        "  else:\n",
        "    arr[start], arr[end]= arr[end], arr[start]\n",
        "    start+=1\n",
        "    end-=1\n",
        "    reverseArray(arr, start, end)\n",
        "  return arr "
      ]
    },
    {
      "cell_type": "code",
      "source": [
        "arr=[1,2,3,4,5,6]\n",
        "print(reverseArray(arr, 0, len(arr)-1))"
      ],
      "metadata": {
        "colab": {
          "base_uri": "https://localhost:8080/"
        },
        "id": "Q3mJ9kYNfG6C",
        "outputId": "41104d12-5ead-44c7-d537-cd873137d020"
      },
      "execution_count": 19,
      "outputs": [
        {
          "output_type": "stream",
          "name": "stdout",
          "text": [
            "[6, 5, 4, 3, 2, 1]\n"
          ]
        }
      ]
    },
    {
      "cell_type": "markdown",
      "source": [
        "### List splicing approach"
      ],
      "metadata": {
        "id": "1UdsPGg1hX7X"
      }
    },
    {
      "cell_type": "code",
      "source": [
        "arr[len(arr)-1:0:-1]"
      ],
      "metadata": {
        "colab": {
          "base_uri": "https://localhost:8080/"
        },
        "id": "dFe-3WpVhdqv",
        "outputId": "67446223-0776-434c-b88d-d19f97f85bdf"
      },
      "execution_count": 20,
      "outputs": [
        {
          "output_type": "execute_result",
          "data": {
            "text/plain": [
              "[1, 2, 3, 4, 5]"
            ]
          },
          "metadata": {},
          "execution_count": 20
        }
      ]
    },
    {
      "cell_type": "markdown",
      "source": [
        "## Maximum and Minimum in an array"
      ],
      "metadata": {
        "id": "ebAeVYcOfOuZ"
      }
    },
    {
      "cell_type": "code",
      "source": [
        "class pair:\n",
        "  def __init__(self):\n",
        "    self.max= None\n",
        "    self.min = None"
      ],
      "metadata": {
        "id": "3Xcm-ntSgzt1"
      },
      "execution_count": 21,
      "outputs": []
    },
    {
      "cell_type": "code",
      "source": [
        "def findMinMax(arr, n):\n",
        "  minmax=pair()\n",
        "\n",
        "  if n==1:\n",
        "    minmax.max= arr[0]\n",
        "    minmax.min = arr[0]\n",
        "  if n==2:\n",
        "    if arr[0]>arr[1]:\n",
        "      minmax.max, minmax.min = arr[0], arr[1]\n",
        "    else:\n",
        "      minmax.max, minmax.min = arr[1], arr[0]\n",
        "  else:\n",
        "    if arr[0]>arr[1]:\n",
        "      minmax.max, minmax.min = arr[0], arr[1]\n",
        "    else:\n",
        "      minmax.max, minmax.min = arr[1], arr[0]\n",
        "    for i in range(2, n):\n",
        "      if arr[i]>minmax.max:\n",
        "        minmax.max=arr[i]\n",
        "      if arr[i]<minmax.min:\n",
        "        minmax.min=arr[i]\n",
        "  return minmax\n",
        "\n",
        "  "
      ],
      "metadata": {
        "id": "eVR5snbdg-79"
      },
      "execution_count": 22,
      "outputs": []
    },
    {
      "cell_type": "code",
      "source": [
        "arr = [1000, 11, 445, 1, 330, 3000]\n",
        "arr_size = len(arr)\n",
        "minmax = findMinMax(arr, arr_size)"
      ],
      "metadata": {
        "id": "vmiL--KqoNn-"
      },
      "execution_count": 23,
      "outputs": []
    },
    {
      "cell_type": "code",
      "source": [
        "print('Maximum element is', minmax.max)\n",
        "print('Minimum element is', minmax.min)"
      ],
      "metadata": {
        "colab": {
          "base_uri": "https://localhost:8080/"
        },
        "id": "3wO7dLv5oXnf",
        "outputId": "9bdbf3da-1d3e-4c2f-905d-9f6217785a37"
      },
      "execution_count": 24,
      "outputs": [
        {
          "output_type": "stream",
          "name": "stdout",
          "text": [
            "Maximum element is 3000\n",
            "Minimum element is 1\n"
          ]
        }
      ]
    },
    {
      "cell_type": "markdown",
      "source": [
        "### Python in-built functions\n"
      ],
      "metadata": {
        "id": "6sPrHmsTpEMP"
      }
    },
    {
      "cell_type": "code",
      "source": [
        "print('Maximum element is', max(arr))\n",
        "print('Minimum element is', min(arr))"
      ],
      "metadata": {
        "colab": {
          "base_uri": "https://localhost:8080/"
        },
        "id": "dJEcv0Swod1r",
        "outputId": "e45551e3-23a8-495d-d089-deb0b1825669"
      },
      "execution_count": 25,
      "outputs": [
        {
          "output_type": "stream",
          "name": "stdout",
          "text": [
            "Maximum element is 3000\n",
            "Minimum element is 1\n"
          ]
        }
      ]
    },
    {
      "cell_type": "markdown",
      "source": [
        "# LinkedList"
      ],
      "metadata": {
        "id": "wjfpTTCgrD04"
      }
    },
    {
      "cell_type": "markdown",
      "source": [
        "## Reverse Linked List\n",
        "\n",
        "* Initialize three pointers prev as NULL, curr as head, and next as NULL.\n",
        "* Iterate through the linked list. In a loop, do the following:\n",
        "    * Before changing the next of curr, store the next node \n",
        "    * next = curr -> next\n",
        "    * Now update the next pointer of curr to the prev \n",
        "    * curr -> next = prev \n",
        "    * Update prev as curr and curr as next \n",
        "    * prev = curr \n",
        "    * curr = next"
      ],
      "metadata": {
        "id": "YdkBwTTGo___"
      }
    },
    {
      "cell_type": "code",
      "source": [
        "class Node:\n",
        "  def __init__(self, value):\n",
        "    self.value= value\n",
        "    self.next= None\n",
        "\n",
        "class LinkedList:\n",
        "  def __init__(self):\n",
        "    self.head= None\n",
        "    self.tail= None\n",
        "  \n",
        "  def __iter__(self):\n",
        "    node= self.head\n",
        "    while node:\n",
        "      yield node\n",
        "      node=node.next\n",
        "  def printList(self):\n",
        "    temp = self.head\n",
        "    while (temp):\n",
        "      print(temp.value, end=\" \")\n",
        "      temp=temp.next\n",
        "  def pushNode(self, nodeValue):\n",
        "    new_Node= Node(nodeValue)\n",
        "    if self.head is None:\n",
        "      self.head = new_Node\n",
        "    else:\n",
        "      new_Node.next=self.head\n",
        "      self.head= new_Node\n",
        "  def reverseList(self):\n",
        "    prev = None\n",
        "    current= self.head\n",
        "    while current is not None:\n",
        "      next = current.next\n",
        "      current.next = prev\n",
        "      prev= current\n",
        "      current= next\n",
        "    self.head= prev"
      ],
      "metadata": {
        "id": "39Q4gxmCrISq"
      },
      "execution_count": 50,
      "outputs": []
    },
    {
      "cell_type": "code",
      "source": [
        "lList= LinkedList()\n",
        "\n",
        "lList.pushNode(30)\n",
        "lList.pushNode(20)\n",
        "lList.pushNode(10)\n",
        "lList.pushNode(00)\n",
        "lList.printList()"
      ],
      "metadata": {
        "colab": {
          "base_uri": "https://localhost:8080/"
        },
        "id": "18MjgK_ItkIJ",
        "outputId": "a74e01ea-77e4-4b19-e29b-0084051cd797"
      },
      "execution_count": 51,
      "outputs": [
        {
          "output_type": "stream",
          "name": "stdout",
          "text": [
            "0 10 20 30 "
          ]
        }
      ]
    },
    {
      "cell_type": "code",
      "source": [
        "print([node.value for node in lList])"
      ],
      "metadata": {
        "colab": {
          "base_uri": "https://localhost:8080/"
        },
        "id": "UMDhIegVtq5M",
        "outputId": "8395dd57-4205-4178-f899-92a89c4a2692"
      },
      "execution_count": 52,
      "outputs": [
        {
          "output_type": "stream",
          "name": "stdout",
          "text": [
            "[0, 10, 20, 30]\n"
          ]
        }
      ]
    },
    {
      "cell_type": "code",
      "source": [
        "print('Reverse linked list')\n",
        "lList.reverseList()\n",
        "lList.printList()"
      ],
      "metadata": {
        "colab": {
          "base_uri": "https://localhost:8080/"
        },
        "id": "M9smSGIjv0u7",
        "outputId": "8e5000f1-1892-4c28-aef6-936e796ce24f"
      },
      "execution_count": 49,
      "outputs": [
        {
          "output_type": "stream",
          "name": "stdout",
          "text": [
            "Reverse linked list\n",
            "30 20 10 0 "
          ]
        }
      ]
    },
    {
      "cell_type": "code",
      "source": [],
      "metadata": {
        "id": "x1R_YRl0321q"
      },
      "execution_count": null,
      "outputs": []
    }
  ]
}