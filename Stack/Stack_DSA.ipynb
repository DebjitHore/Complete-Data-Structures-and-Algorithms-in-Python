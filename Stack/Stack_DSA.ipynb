{
  "nbformat": 4,
  "nbformat_minor": 0,
  "metadata": {
    "colab": {
      "provenance": [],
      "collapsed_sections": [
        "6_RFYqji65Cw",
        "o7-ZQEF86_KQ",
        "NZGAfssKCbcy",
        "_z3Iw9Q-DM6R"
      ]
    },
    "kernelspec": {
      "name": "python3",
      "display_name": "Python 3"
    },
    "language_info": {
      "name": "python"
    }
  },
  "cells": [
    {
      "cell_type": "markdown",
      "source": [
        "* `Stack` is a data structure that follows the LIFO method. Last in, first-out."
      ],
      "metadata": {
        "id": "DswtwPda1YxA"
      }
    },
    {
      "cell_type": "markdown",
      "source": [
        "Why do we need a stack data structure?\n",
        "* Website browsing when you are using the same tab to visit different websites, and you hit the back button, to move back to the previously opened website in the reverse order"
      ],
      "metadata": {
        "id": "DpJKzC9d1mUw"
      }
    },
    {
      "cell_type": "markdown",
      "source": [
        "## Stack Operations\n",
        "\n",
        "* Create Stack\n",
        "* Push\n",
        "* Pop (removes topmost element)\n",
        "* Peek (check topmost element of stack w/o removing)\n",
        "* isEmpty\n",
        "* isFull\n",
        "* deleteStack"
      ],
      "metadata": {
        "id": "6_RFYqji65Cw"
      }
    },
    {
      "cell_type": "markdown",
      "source": [
        "### Creation \n",
        "* Using a Python list with or without a size limit (gets slower as the problem grows)\n",
        "* Using a Linked List. (faster performance, but difficult to implement)"
      ],
      "metadata": {
        "id": "o7-ZQEF86_KQ"
      }
    },
    {
      "cell_type": "code",
      "source": [
        "\n",
        "class Stack:\n",
        "  def __init__(self):\n",
        "    self.list=[]\n",
        "  def __str__(self):\n",
        "    values= self.list.reverse()\n",
        "    values= [str(x) for x in self.list]\n",
        "    return '\\n'.join(values)\n",
        "  def isEmpty(self):\n",
        "    if self.list==[]:\n",
        "      return True\n",
        "    else:\n",
        "      return False\n",
        "  "
      ],
      "metadata": {
        "id": "1yKHtnsx-vsv"
      },
      "execution_count": null,
      "outputs": []
    },
    {
      "cell_type": "markdown",
      "source": [
        "* Creation and empty check is O(1) space and time complexity"
      ],
      "metadata": {
        "id": "erzmvhKVB366"
      }
    },
    {
      "cell_type": "code",
      "source": [
        "#Check if stack is empty or not\n",
        "customStack= Stack()\n",
        "\n",
        "print(customStack.isEmpty())"
      ],
      "metadata": {
        "colab": {
          "base_uri": "https://localhost:8080/"
        },
        "id": "3MorSG_PAm1w",
        "outputId": "ec113dba-6c9f-4c53-e7ae-42da77ca1ad2"
      },
      "execution_count": null,
      "outputs": [
        {
          "output_type": "stream",
          "name": "stdout",
          "text": [
            "True\n"
          ]
        }
      ]
    },
    {
      "cell_type": "markdown",
      "source": [
        "`The issue with how stack has been implemented in this tutorial is that it always reverses the list everytime the print function is called`"
      ],
      "metadata": {
        "id": "G9duBxiaAai7"
      }
    },
    {
      "cell_type": "markdown",
      "source": [
        "### Push method \n",
        "* Pushes new elements in the stack"
      ],
      "metadata": {
        "id": "NZGAfssKCbcy"
      }
    },
    {
      "cell_type": "code",
      "source": [
        "class Stack:\n",
        "  def __init__(self):\n",
        "    self.list=[]\n",
        "  def __str__(self):\n",
        "    values= self.list.reverse()\n",
        "    values= [str(x) for x in self.list]\n",
        "    return '\\n'.join(values)\n",
        "\n",
        "#isEmpty\n",
        "\n",
        "  def isEmpty(self):\n",
        "    if self.list==[]:\n",
        "      return True\n",
        "    else:\n",
        "      return False\n",
        "#push\n",
        "  def push(self, value):\n",
        "    self.list.append(value)\n",
        "    return \"Element has been successfully inserted\"\n",
        "\n",
        "\n",
        "\n",
        "\n",
        "#Check if stack is empty or not\n",
        "\n",
        "customStack= Stack()\n",
        "\n",
        "#print(customStack.isEmpty())\n",
        "\n",
        "# push new elements\n",
        "customStack.push(4)\n",
        "customStack.push(12)\n",
        "customStack.push(3)\n",
        "\n",
        "print(customStack)"
      ],
      "metadata": {
        "colab": {
          "base_uri": "https://localhost:8080/"
        },
        "id": "7ETOcAQ6BZOR",
        "outputId": "bc5a7e20-8e4c-4921-eb08-9bbbe55fddb3"
      },
      "execution_count": null,
      "outputs": [
        {
          "output_type": "stream",
          "name": "stdout",
          "text": [
            "3\n",
            "12\n",
            "4\n"
          ]
        }
      ]
    },
    {
      "cell_type": "markdown",
      "source": [
        "* Whatever has been pushed last appears on the top of the stack"
      ],
      "metadata": {
        "id": "60-qhDHJDRm6"
      }
    },
    {
      "cell_type": "markdown",
      "source": [
        "### Pop method"
      ],
      "metadata": {
        "id": "_z3Iw9Q-DM6R"
      }
    },
    {
      "cell_type": "code",
      "source": [
        "\n",
        "class Stack:\n",
        "  def __init__(self):\n",
        "    self.list=[]\n",
        "  def __str__(self):\n",
        "    #values= reversed(self.list)\n",
        "    values= self.list.reverse()\n",
        "    values= [str(x) for x in self.list]\n",
        "    return '\\n'.join(values)\n",
        "\n",
        "#isEmpty\n",
        "\n",
        "  def isEmpty(self):\n",
        "    if self.list==[]:\n",
        "      print(\"Stack is empty\") \n",
        "    else:\n",
        "      print(\"Stack is not empty\")\n",
        "#push\n",
        "  def push(self, value):\n",
        "    self.list.append(value)\n",
        "    return \"Element has been successfully inserted\"\n",
        "#pop\n",
        "  def pop(self):\n",
        "    if self.isEmpty():\n",
        "      return \"There is no element in the stack\"\n",
        "    else:\n",
        "      return self.list.pop()\n",
        "\n",
        "\n",
        "\n",
        "\n",
        "\n",
        "#Check if stack is empty or not\n",
        "\n",
        "customStack= Stack()\n",
        "\n",
        "\n",
        "\n",
        "# push new elements\n",
        "customStack.push(4)\n",
        "customStack.push(12)\n",
        "customStack.push(3)\n",
        "\n",
        "\n",
        "#popping from the Stack  \n",
        "customStack.pop()\n",
        "print(customStack)\n"
      ],
      "metadata": {
        "colab": {
          "base_uri": "https://localhost:8080/"
        },
        "id": "JzZu8NyxA-CT",
        "outputId": "6d0fba0c-6ed0-4725-ec8e-6e3a04177c57"
      },
      "execution_count": null,
      "outputs": [
        {
          "output_type": "stream",
          "name": "stdout",
          "text": [
            "Stack is not empty\n",
            "12\n",
            "4\n"
          ]
        }
      ]
    },
    {
      "cell_type": "markdown",
      "source": [
        "`3 is being popped out since it was entered last`"
      ],
      "metadata": {
        "id": "GwEkUlccBxYP"
      }
    },
    {
      "cell_type": "markdown",
      "source": [
        "### Peek Method "
      ],
      "metadata": {
        "id": "-5I1C74_Cxa9"
      }
    },
    {
      "cell_type": "code",
      "source": [
        "\n",
        "class Stack:\n",
        "  def __init__(self):\n",
        "    self.list=[]\n",
        "  def __str__(self):\n",
        "    #values= reversed(self.list)\n",
        "    values= self.list.reverse()\n",
        "    values= [str(x) for x in self.list]\n",
        "    return '\\n'.join(values)\n",
        "\n",
        "#isEmpty\n",
        "\n",
        "  def isEmpty(self):\n",
        "    if self.list==[]:\n",
        "      print(\"Stack is empty\") \n",
        "    else:\n",
        "      print(\"Stack is not empty\")\n",
        "#push\n",
        "  def push(self, value):\n",
        "    self.list.append(value)\n",
        "    return \"Element has been successfully inserted\"\n",
        "#pop\n",
        "  def pop(self):\n",
        "    if self.isEmpty():\n",
        "      return \"There is no element in the stack\"\n",
        "    else:\n",
        "      return self.list.pop()\n",
        "\n",
        "  def peek(self):\n",
        "    if self.isEmpty():\n",
        "      return \"No element\"\n",
        "    else:\n",
        "      return self.list[-1]\n",
        "\n",
        "\n",
        "customStack= Stack()\n",
        "\n",
        "# push new elements\n",
        "customStack.push(4)\n",
        "customStack.push(12)\n",
        "customStack.push(3)\n",
        "\n",
        "print(customStack.peek())\n"
      ],
      "metadata": {
        "colab": {
          "base_uri": "https://localhost:8080/"
        },
        "id": "lVrc29CkBDE1",
        "outputId": "34c8bdc8-638f-492e-88a7-4b2ad5f9f8a2"
      },
      "execution_count": null,
      "outputs": [
        {
          "output_type": "stream",
          "name": "stdout",
          "text": [
            "Stack is not empty\n",
            "3\n"
          ]
        }
      ]
    },
    {
      "cell_type": "markdown",
      "source": [
        "## Stack with `limited size`"
      ],
      "metadata": {
        "id": "aC--mqbkDgGC"
      }
    },
    {
      "cell_type": "markdown",
      "source": [
        "There is a maximum size to a limited stack, and for that very reason a check is performed to see if it is already full"
      ],
      "metadata": {
        "id": "_A_dGZPpzd-b"
      }
    },
    {
      "cell_type": "code",
      "source": [
        "#Creating a Stack with Limited Size\n",
        "\n",
        "class Stack:\n",
        "\tdef __init__(self, maxSize):\n",
        "\t\tself.maxSize=maxSize\n",
        "\t\tself.list= []\n",
        "\n",
        "\tdef __str__(self):\n",
        "\t\tvalues= self.list.reverse()\n",
        "\t\tvalues= [str(x) for x in self.list]\n",
        "\t\treturn '\\n'.join(values)\n",
        "\n",
        "\t#isEmpty\n",
        "\n",
        "\tdef isEmpty(self):\n",
        "\t\tif self.list== []:\n",
        "\t\t\treturn True\n",
        "\t\telse:\n",
        "\t\t\treturn False\n",
        "\n",
        "\t#isFull checks if the stack has reached its maximum capacity\n",
        "\tdef isFull(self):\n",
        "\t\tif len(self.list) == self.maxSize:\n",
        "\t\t\treturn True\n",
        "\t\telse: \n",
        "\t\t\treturn False\n",
        "\n",
        "\tdef push(self, value):\n",
        "\t\tif self.isFull():\n",
        "\t\t\treturn \"The stack is full\"\n",
        "\t\telse:\n",
        "\t\t\tself.list.append(value)\n",
        "\t\t\treturn \"Element has been successfully inserted\"\n",
        "\n",
        "\tdef pop(self):\n",
        "\t\tif self.isEmpty():\n",
        "\t\t\treturn \"No element is stack\"\n",
        "\t\telse:\n",
        "\t\t\treturn self.list.pop()\n",
        "\n",
        "\n",
        "\tdef peek(self):\n",
        "\t\tif self.isEmpty():\n",
        "\t\t\treturn \"No element is stack\"\n",
        "\t\telse:\n",
        "\t\t\treturn self.list[-1]\n",
        "\n",
        "\tdef deleteStack(self):\n",
        "\t\tself.list = None\n",
        "\n",
        "\n"
      ],
      "metadata": {
        "id": "-TVk4g44C1bI"
      },
      "execution_count": 17,
      "outputs": []
    },
    {
      "cell_type": "code",
      "source": [
        "customStack= Stack(4)\n",
        "\n",
        "print(customStack.isEmpty())\n",
        "print(customStack.isFull())"
      ],
      "metadata": {
        "colab": {
          "base_uri": "https://localhost:8080/"
        },
        "id": "IWl_Nb4vzoFZ",
        "outputId": "224f3023-4198-4b47-ccab-17af06fc241a"
      },
      "execution_count": 28,
      "outputs": [
        {
          "output_type": "stream",
          "name": "stdout",
          "text": [
            "True\n",
            "False\n"
          ]
        }
      ]
    },
    {
      "cell_type": "code",
      "source": [
        "customStack.push(1)\n",
        "customStack.push(2)\n",
        "customStack.push(3)\n",
        "customStack.push(4)"
      ],
      "metadata": {
        "colab": {
          "base_uri": "https://localhost:8080/",
          "height": 36
        },
        "id": "d9Uw971Gz_E4",
        "outputId": "afe55892-2749-4317-812b-3aa0c0f9d7fd"
      },
      "execution_count": 29,
      "outputs": [
        {
          "output_type": "execute_result",
          "data": {
            "text/plain": [
              "'Element has been successfully inserted'"
            ],
            "application/vnd.google.colaboratory.intrinsic+json": {
              "type": "string"
            }
          },
          "metadata": {},
          "execution_count": 29
        }
      ]
    },
    {
      "cell_type": "code",
      "source": [
        "print(customStack)"
      ],
      "metadata": {
        "colab": {
          "base_uri": "https://localhost:8080/"
        },
        "id": "yD9KJmqi01n5",
        "outputId": "97de3125-39a2-46c7-d897-84e68a0a068f"
      },
      "execution_count": 31,
      "outputs": [
        {
          "output_type": "stream",
          "name": "stdout",
          "text": [
            "4\n",
            "3\n",
            "2\n",
            "1\n"
          ]
        }
      ]
    },
    {
      "cell_type": "code",
      "source": [
        "customStack.push(5)"
      ],
      "metadata": {
        "colab": {
          "base_uri": "https://localhost:8080/",
          "height": 36
        },
        "id": "eOBqf5b409cG",
        "outputId": "49ffd703-b0be-4792-c043-4431a6adebc7"
      },
      "execution_count": 21,
      "outputs": [
        {
          "output_type": "execute_result",
          "data": {
            "text/plain": [
              "'The stack is full'"
            ],
            "application/vnd.google.colaboratory.intrinsic+json": {
              "type": "string"
            }
          },
          "metadata": {},
          "execution_count": 21
        }
      ]
    },
    {
      "cell_type": "code",
      "source": [
        "customStack.peek()"
      ],
      "metadata": {
        "colab": {
          "base_uri": "https://localhost:8080/"
        },
        "id": "9BnCI8Vo1H-0",
        "outputId": "5f452909-8c51-4a97-b428-c8e4e39a2fa6"
      },
      "execution_count": 30,
      "outputs": [
        {
          "output_type": "execute_result",
          "data": {
            "text/plain": [
              "4"
            ]
          },
          "metadata": {},
          "execution_count": 30
        }
      ]
    },
    {
      "cell_type": "markdown",
      "source": [
        "## Stack using LinkedList"
      ],
      "metadata": {
        "id": "Gvn2w6_Y1TRs"
      }
    },
    {
      "cell_type": "markdown",
      "source": [
        "* A blank `Linked List` is initiated and the null head reference is then set as the start of the `stack`\n",
        "* Then as new members are pushed into the `stack` the head reference of the `linked list` is constantly updated to the latest element and the next reference of the inserted node is updated to the previous head\n",
        "* Similar logic works for the `pop` method, where the `head` is continuosly popped out and the head reference is updated to the next node"
      ],
      "metadata": {
        "id": "gNgrJY7W8HVn"
      }
    },
    {
      "cell_type": "code",
      "source": [
        "class Node:\n",
        "\tdef __init__(self, value= None):\n",
        "\t\tself.value= value\n",
        "\t\tself.next=  next\n",
        "\n",
        "\n",
        "class LinkedList:\n",
        "\tdef __init__(self):\n",
        "\t\tself.head= None\n",
        "\n",
        "\n",
        "\tdef __iter__(self):\n",
        "\t\tcurNode= self.head\n",
        "\t\twhile curNode:\n",
        "\t\t\tyield curNode\n",
        "\t\t\tcurNode= curNode.next\n",
        "\n",
        "\n",
        "class Stack:\n",
        "\tdef __init__(self):\n",
        "\t\tself.LinkedList= LinkedList()\n",
        "\n",
        "\tdef __str__(self):\n",
        "\t\tvalues= [str(x.value) for x in self.LinkedList]\n",
        "\t\treturn '\\n'.join(values)\n",
        "\n",
        "\tdef isEmpty(self):\n",
        "\t\tif self.LinkedList.head == None:\n",
        "\t\t\treturn True\n",
        "\t\telse:\n",
        "\t\t\treturn False\n",
        "\n",
        "\n",
        "\tdef push(self, value):\n",
        "\t\tnode= Node(value)\n",
        "\t\tnode.next= self.LinkedList.head\n",
        "\t\tself.LinkedList.head= node\n",
        "\n",
        "\tdef pop(self):\n",
        "\t\tif self.isEmpty():\n",
        "\t\t\treturn \"Stack empty\"\n",
        "\t\telse:\n",
        "\t\t\tnodeValue= self.LinkedList.head.value\n",
        "\t\t\tself.LinkedList.head= self.LinkedList.head.next #head points to the next node\n",
        "\t\t\treturn nodeValue\n",
        "\n",
        "\tdef peek(self):\n",
        "\t\tif self.isEmpty():\n",
        "\t\t\treturn \"Stack empty\"\n",
        "\t\telse:\n",
        "\t\t\tnodeValue= self.LinkedList.head.value\n",
        "\t\t\treturn nodeValue\n",
        "\n",
        "\tdef deleteStack(self):\n",
        "\t\tself.LinkedList.head.value= None\n",
        "\t\treturn \"Stack has been deleted\"\n",
        "\n",
        "\n",
        "\n",
        "\n",
        "\n",
        "customStack= Stack()\n",
        "print(customStack.isEmpty())\n",
        "\n",
        "customStack.push(12)\n",
        "customStack.push(121)\n",
        "customStack.push(1212)\n",
        "\n",
        "print(customStack)\n",
        "\n",
        "print('Testing Pop Method')\n",
        "\n",
        "customStack.pop()\n",
        "print(customStack)\n",
        "print('-------')\n",
        "print(customStack.peek())\n",
        "\n",
        "print(customStack.deleteStack())\n",
        "\n"
      ],
      "metadata": {
        "colab": {
          "base_uri": "https://localhost:8080/"
        },
        "id": "sQ_Hv5C62tra",
        "outputId": "44ce2349-8255-40d7-9baf-7978bd782bd7"
      },
      "execution_count": 32,
      "outputs": [
        {
          "output_type": "stream",
          "name": "stdout",
          "text": [
            "True\n",
            "1212\n",
            "121\n",
            "12\n",
            "Testing Pop Method\n",
            "121\n",
            "12\n",
            "-------\n",
            "121\n",
            "Stack has been deleted\n"
          ]
        }
      ]
    },
    {
      "cell_type": "markdown",
      "source": [
        "* Everything is O(1) time and space complexity"
      ],
      "metadata": {
        "id": "JIxLvb7lHHUX"
      }
    },
    {
      "cell_type": "code",
      "source": [],
      "metadata": {
        "id": "Bu1YDI9GGz7B"
      },
      "execution_count": null,
      "outputs": []
    }
  ]
}