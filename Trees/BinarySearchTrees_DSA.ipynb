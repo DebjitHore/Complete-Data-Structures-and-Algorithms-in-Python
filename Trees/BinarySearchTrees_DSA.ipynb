{
  "nbformat": 4,
  "nbformat_minor": 0,
  "metadata": {
    "colab": {
      "provenance": []
    },
    "kernelspec": {
      "name": "python3",
      "display_name": "Python 3"
    },
    "language_info": {
      "name": "python"
    }
  },
  "cells": [
    {
      "cell_type": "markdown",
      "source": [
        "* In left subtree the node value is less than or equal to parent node value\n",
        "* In right subtree, node value is greater than parent node value\n",
        "* Performs faster when inserting and deleting nodes because it does not index the node values, instead relies on implicit structure to keep track"
      ],
      "metadata": {
        "id": "uNRF_x-41YLX"
      }
    },
    {
      "cell_type": "markdown",
      "source": [
        "## Creation of Binary Search Tree\n",
        "* Time complexity O(1)\n",
        "* Space complexity O(1)"
      ],
      "metadata": {
        "id": "UxEfYFjfRjH0"
      }
    },
    {
      "cell_type": "code",
      "execution_count": 1,
      "metadata": {
        "id": "CAWmmU8w0Kx8"
      },
      "outputs": [],
      "source": [
        "#implementing binary search tree\n",
        "from collections import deque\n",
        "class BSTNode:\n",
        "\tdef __init__(self, data):\n",
        "\t\tself.data = data\n",
        "\t\tself.leftChild = None\n",
        "\t\tself.rightChild= None\n",
        "\n",
        "\n",
        "newBST = BSTNode(None)\n"
      ]
    },
    {
      "cell_type": "markdown",
      "source": [
        "## Insertion of Node in Binary Search Tree\n",
        "* Time complexity is O(logN)\n",
        "* Space complexity is O(logN)"
      ],
      "metadata": {
        "id": "Jx7hF1sXR_E2"
      }
    },
    {
      "cell_type": "code",
      "source": [
        "def insertNodeBST(rootNode, nodeValue):\n",
        "\tif rootNode.data is None:\n",
        "\t\trootNode.data= nodeValue\n",
        "\telif nodeValue<= rootNode.data:\n",
        "\t\tif rootNode.leftChild is None:\n",
        "\t\t\trootNode.leftChild = BSTNode(nodeValue)\n",
        "\t\telse:\n",
        "\t\t\tinsertNodeBST(rootNode.leftChild, nodeValue)\n",
        "\telse:\n",
        "\t\tif rootNode.rightChild is None:\n",
        "\t\t\trootNode.rightChild =BSTNode(nodeValue)\n",
        "\t\telse:\n",
        "\t\t\tinsertNodeBST(rootNode.rightChild, nodeValue)\n",
        "\treturn \"Node has been successfully inserted\""
      ],
      "metadata": {
        "id": "Pf7pAJNBSDSN"
      },
      "execution_count": 2,
      "outputs": []
    },
    {
      "cell_type": "code",
      "source": [
        "print(insertNodeBST(newBST, 70))\n",
        "print(insertNodeBST(newBST, 50))\n",
        "\n",
        "print(newBST.data)\n",
        "print(newBST.leftChild.data)"
      ],
      "metadata": {
        "colab": {
          "base_uri": "https://localhost:8080/"
        },
        "id": "yFwrt76XU3Hz",
        "outputId": "91576777-bd4b-4776-ccbe-ba329895d9fa"
      },
      "execution_count": 3,
      "outputs": [
        {
          "output_type": "stream",
          "name": "stdout",
          "text": [
            "Node has been successfully inserted\n",
            "Node has been successfully inserted\n",
            "70\n",
            "50\n"
          ]
        }
      ]
    },
    {
      "cell_type": "markdown",
      "source": [
        "## Traverse through a BST\n",
        "\n",
        "* Time complexity and Space complexity remain same as `Binary Trees`"
      ],
      "metadata": {
        "id": "PPwoo0nqVaOP"
      }
    },
    {
      "cell_type": "markdown",
      "source": [
        "### PreOrderTraversal"
      ],
      "metadata": {
        "id": "TMgFekTQXitN"
      }
    },
    {
      "cell_type": "code",
      "source": [
        "\n",
        "print(insertNodeBST(newBST, 90))\n",
        "print(insertNodeBST(newBST, 30))\n",
        "print(insertNodeBST(newBST, 60))\n",
        "print(insertNodeBST(newBST, 80))\n",
        "print(insertNodeBST(newBST, 100))\n",
        "print(insertNodeBST(newBST, 20))\n",
        "print(insertNodeBST(newBST, 40))\n",
        "print(insertNodeBST(newBST, 10))"
      ],
      "metadata": {
        "colab": {
          "base_uri": "https://localhost:8080/"
        },
        "id": "t2T9CLJgU460",
        "outputId": "84492fba-6767-4886-de00-fed92a3a70d8"
      },
      "execution_count": 4,
      "outputs": [
        {
          "output_type": "stream",
          "name": "stdout",
          "text": [
            "Node has been successfully inserted\n",
            "Node has been successfully inserted\n",
            "Node has been successfully inserted\n",
            "Node has been successfully inserted\n",
            "Node has been successfully inserted\n",
            "Node has been successfully inserted\n",
            "Node has been successfully inserted\n",
            "Node has been successfully inserted\n"
          ]
        }
      ]
    },
    {
      "cell_type": "code",
      "source": [
        "def preOrderTraversal(rootNode):\n",
        "\tif not rootNode:\n",
        "\t\treturn\n",
        "\tprint(rootNode.data)\n",
        "\tpreOrderTraversal(rootNode.leftChild)\n",
        "\tpreOrderTraversal(rootNode.rightChild)"
      ],
      "metadata": {
        "id": "0-cen0OQWzJi"
      },
      "execution_count": 5,
      "outputs": []
    },
    {
      "cell_type": "code",
      "source": [
        "preOrderTraversal(newBST)"
      ],
      "metadata": {
        "colab": {
          "base_uri": "https://localhost:8080/"
        },
        "id": "R5CcBC8NXTDD",
        "outputId": "78d4847a-588d-48c1-9c99-a0ab69f46f68"
      },
      "execution_count": 6,
      "outputs": [
        {
          "output_type": "stream",
          "name": "stdout",
          "text": [
            "70\n",
            "50\n",
            "30\n",
            "20\n",
            "10\n",
            "40\n",
            "60\n",
            "90\n",
            "80\n",
            "100\n"
          ]
        }
      ]
    },
    {
      "cell_type": "markdown",
      "source": [
        "### InOrderTraversal"
      ],
      "metadata": {
        "id": "752B9GSNXmlZ"
      }
    },
    {
      "cell_type": "code",
      "source": [
        "def inOrderTraversal(rootNode):\n",
        "\tif not rootNode:\n",
        "\t\treturn\n",
        "\tinOrderTraversal(rootNode.leftChild)\n",
        "\tprint(rootNode.data)\n",
        "\tinOrderTraversal(rootNode.rightChild)"
      ],
      "metadata": {
        "id": "DB4VCxy4XUWt"
      },
      "execution_count": 7,
      "outputs": []
    },
    {
      "cell_type": "code",
      "source": [
        "\n",
        "inOrderTraversal(newBST)"
      ],
      "metadata": {
        "colab": {
          "base_uri": "https://localhost:8080/"
        },
        "id": "5GvdIKf4YEti",
        "outputId": "c657cf39-6271-49c5-d249-85c1f94de11f"
      },
      "execution_count": 8,
      "outputs": [
        {
          "output_type": "stream",
          "name": "stdout",
          "text": [
            "10\n",
            "20\n",
            "30\n",
            "40\n",
            "50\n",
            "60\n",
            "70\n",
            "80\n",
            "90\n",
            "100\n"
          ]
        }
      ]
    },
    {
      "cell_type": "markdown",
      "source": [
        "### PostOrderTraversal"
      ],
      "metadata": {
        "id": "uAMAYHKmYGlg"
      }
    },
    {
      "cell_type": "code",
      "source": [
        "def postOrderTraversal(rootNode):\n",
        "\tif not rootNode:\n",
        "\t\treturn\n",
        "\tpostOrderTraversal(rootNode.leftChild)\n",
        "\tinOrderTraversal(rootNode.rightChild)\n",
        "\tprint(rootNode.data)"
      ],
      "metadata": {
        "id": "-1_KYK17Znbc"
      },
      "execution_count": 9,
      "outputs": []
    },
    {
      "cell_type": "code",
      "source": [
        "postOrderTraversal(newBST)"
      ],
      "metadata": {
        "colab": {
          "base_uri": "https://localhost:8080/"
        },
        "id": "0_4VwqUgZn46",
        "outputId": "03b5ad36-f573-4b26-f41e-2d279bcf7b8c"
      },
      "execution_count": 10,
      "outputs": [
        {
          "output_type": "stream",
          "name": "stdout",
          "text": [
            "10\n",
            "20\n",
            "40\n",
            "30\n",
            "60\n",
            "50\n",
            "80\n",
            "90\n",
            "100\n",
            "70\n"
          ]
        }
      ]
    },
    {
      "cell_type": "markdown",
      "source": [
        "### LevelOrderTraversal"
      ],
      "metadata": {
        "id": "imj8qaJGZqzG"
      }
    },
    {
      "cell_type": "code",
      "source": [
        "\n",
        "def levelOrderTraversal(rootNode):\n",
        "\tif not rootNode:\n",
        "\t\treturn\n",
        "\tcustomQueue= deque()\n",
        "\tcustomQueue.append(rootNode)\n",
        "\twhile len(customQueue)>0:\n",
        "\t\troot= customQueue.popleft()\n",
        "\t\tprint(root.data)\n",
        "\t\tif root.leftChild is not None:\n",
        "\t\t\tcustomQueue.append(root.leftChild)\n",
        "\t\tif root.rightChild is not None:\n",
        "\t\t\tcustomQueue.append(root.rightChild)"
      ],
      "metadata": {
        "id": "2Rt8zcKjaC2O"
      },
      "execution_count": 11,
      "outputs": []
    },
    {
      "cell_type": "code",
      "source": [
        "levelOrderTraversal(newBST)"
      ],
      "metadata": {
        "colab": {
          "base_uri": "https://localhost:8080/"
        },
        "id": "Krby1drDcNN1",
        "outputId": "b2c24b25-165c-46ab-e8a6-5d01e1f60fdf"
      },
      "execution_count": 12,
      "outputs": [
        {
          "output_type": "stream",
          "name": "stdout",
          "text": [
            "70\n",
            "50\n",
            "90\n",
            "30\n",
            "60\n",
            "80\n",
            "100\n",
            "20\n",
            "40\n",
            "10\n"
          ]
        }
      ]
    },
    {
      "cell_type": "markdown",
      "source": [
        "## Search in BST\n",
        "\n",
        "* Time and space complexity is O(logN)"
      ],
      "metadata": {
        "id": "hQa7Pt_1cTMo"
      }
    },
    {
      "cell_type": "code",
      "source": [
        "def searchBinaryTree(rootNode, nodeValue):\n",
        "\tif rootNode.data is None and rootNode.leftChild.data is None and rootNode.rightChild.data is None:\n",
        "\t\treturn \"Not found\"\n",
        "\tif rootNode.data == nodeValue:\n",
        "\t\tprint(\"Value has been found\")\n",
        "\telif nodeValue< rootNode.data:\n",
        "\t\tif rootNode.leftChild.data==nodeValue:\n",
        "\t\t\tprint(\"Value has been found\")\n",
        "\t\telse:\n",
        "\t\t\tsearchBinaryTree(rootNode.leftChild, nodeValue)\n",
        "\telse:\n",
        "\t\tif rootNode.rightChild.data == nodeValue:\n",
        "\t\t\tprint(\"Value has been found\")\n",
        "\t\telse:\n",
        "\t\t\tsearchBinaryTree(rootNode.rightChild, nodeValue)"
      ],
      "metadata": {
        "id": "cJioDjsaciyA"
      },
      "execution_count": 13,
      "outputs": []
    },
    {
      "cell_type": "code",
      "source": [
        "searchBinaryTree(newBST, 20)"
      ],
      "metadata": {
        "colab": {
          "base_uri": "https://localhost:8080/"
        },
        "id": "kH-SeYtbWlWM",
        "outputId": "0f7964bc-847c-4aeb-b84f-b47403f42d86"
      },
      "execution_count": 14,
      "outputs": [
        {
          "output_type": "stream",
          "name": "stdout",
          "text": [
            "Value has been found\n"
          ]
        }
      ]
    },
    {
      "cell_type": "markdown",
      "source": [
        "## Deleting a node in a Binary Search Tree\n",
        "\n",
        "* If node to be deleted is a leaf node it can be deleted straightaway\n",
        "* If node to be deleted has one child node, assign the child node to the parent node of the deleted node\n",
        "* If node to be deleted has two children, then a successor of the node needs to be found, this is the `smallest node in the right subtree`"
      ],
      "metadata": {
        "id": "7VvwDQDRWnWP"
      }
    },
    {
      "cell_type": "code",
      "source": [
        "def minValueNode(bstNode):\n",
        "\tcurrentNode= bstNode\n",
        "\twhile currentNode.leftChild is not None:\n",
        "\t\tcurrentNode = currentNode.leftChild\n",
        "\treturn currentNode \n",
        "\n",
        "\n",
        "def deleteNodeBST(rootNode, nodeValue):\n",
        "\tif rootNode is None:\n",
        "\t\treturn rootNode\n",
        "\tif nodeValue< rootNode.data:\n",
        "\t\trootNode.leftChild = deleteNodeBST(rootNode.leftChild, nodeValue)\n",
        "\telif nodeValue>rootNode.data:\n",
        "\t\trootNode.rightChild = deleteNodeBST(rootNode.rightChild, nodeValue)\n",
        "\telse:\n",
        "\t\tif rootNode.leftChild is None:\n",
        "\t\t\ttempNode = rootNode.rightChild\n",
        "\t\t\trootNode=None\n",
        "\t\t\treturn tempNode\n",
        "\t\t\t\n",
        "\n",
        "\t\tif rootNode.rightChild is None:\n",
        "\t\t\ttempNode = rootNode.leftChild\n",
        "\t\t\trootNode= None\n",
        "\t\t\treturn tempNode\n",
        "\t\ttempNode= minValueNode(rootNode.rightChild)\n",
        "\t\trootNode.data = tempNode.data\n",
        "\t\trootNode.rightChild = deleteNodeBST(rootNode.rightChild, tempNode.data)\n",
        "\treturn rootNode"
      ],
      "metadata": {
        "id": "WCILya85YfYj"
      },
      "execution_count": 15,
      "outputs": []
    },
    {
      "cell_type": "code",
      "source": [
        "print('Deleting node valued 20')\n",
        "deleteNodeBST(newBST, 20)\n",
        "levelOrderTraversal(newBST)\n"
      ],
      "metadata": {
        "colab": {
          "base_uri": "https://localhost:8080/"
        },
        "id": "v1GiDiETg3HZ",
        "outputId": "186a5163-c362-4891-d782-aa3b0a0723f7"
      },
      "execution_count": 16,
      "outputs": [
        {
          "output_type": "stream",
          "name": "stdout",
          "text": [
            "Deleting node valued 20\n",
            "70\n",
            "50\n",
            "90\n",
            "30\n",
            "60\n",
            "80\n",
            "100\n",
            "10\n",
            "40\n"
          ]
        }
      ]
    },
    {
      "cell_type": "markdown",
      "source": [
        "## Deleting Entire BST"
      ],
      "metadata": {
        "id": "6tsQ3rrGg7zE"
      }
    },
    {
      "cell_type": "code",
      "source": [
        "def deleteBST(rootNode):\n",
        "\tif not rootNode:\n",
        "\t\treturn None\n",
        "\telse:\n",
        "\t\trootNode.data= None\n",
        "\t\trootNode.rightChild= None\n",
        "\t\trootNode.leftChild = None\n",
        "\treturn \"The BST has been successfully deleted\"\n"
      ],
      "metadata": {
        "id": "4sQk3NYCg4vK"
      },
      "execution_count": 19,
      "outputs": []
    },
    {
      "cell_type": "code",
      "source": [
        "deleteBST(newBST)\n",
        "levelOrderTraversal(newBST)"
      ],
      "metadata": {
        "colab": {
          "base_uri": "https://localhost:8080/"
        },
        "id": "NCpthBHnhXzt",
        "outputId": "015c6c99-55d0-4a59-fab2-6d4e7144f0a4"
      },
      "execution_count": 20,
      "outputs": [
        {
          "output_type": "stream",
          "name": "stdout",
          "text": [
            "None\n"
          ]
        }
      ]
    },
    {
      "cell_type": "code",
      "source": [
        " "
      ],
      "metadata": {
        "id": "xuuK62E0he13"
      },
      "execution_count": null,
      "outputs": []
    }
  ]
}