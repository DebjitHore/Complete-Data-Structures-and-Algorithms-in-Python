{
 "cells": [
  {
   "cell_type": "markdown",
   "metadata": {
    "id": "nM67Mk76mUp1"
   },
   "source": [
    "# What is an array?\n",
    "* Arrays can store data of a specific type. \n",
    "* Elements of arrays are stored in contiguous memory locations.\n",
    "* They have unique location identifier.\n",
    "* Size of array is predefined and can not be changed later on.\n",
    "\n",
    "\n"
   ]
  },
  {
   "cell_type": "markdown",
   "metadata": {
    "id": "uN1beeVN--5D"
   },
   "source": [
    "#Memory Allocation.\n",
    "\n",
    "* They're alloted continuous memory space in computer memory.\n",
    "* 2D or n-Dimensional arrays are treated like 1D arrays while allocating space in computer memory.\n",
    "\n"
   ]
  },
  {
   "cell_type": "markdown",
   "metadata": {
    "id": "7uMtSoYFBnPH"
   },
   "source": [
    "#Creating an Array {without NumPy}\n",
    "\n",
    "from array import *                                                            \n",
    "arrayName= array(typecode, {Initialisers})"
   ]
  },
  {
   "cell_type": "code",
   "execution_count": 1,
   "metadata": {
    "colab": {
     "base_uri": "https://localhost:8080/"
    },
    "id": "7PJyddAJYTB6",
    "outputId": "1619cc72-6c0c-4bdc-cc13-1099a76cb773"
   },
   "outputs": [
    {
     "data": {
      "text/plain": [
       "array('i', [1, 2, 3, 4, 5])"
      ]
     },
     "execution_count": 1,
     "metadata": {},
     "output_type": "execute_result"
    }
   ],
   "source": [
    "from array import *\n",
    "myArray= array('i', [1,2,3,4,5])\n",
    "myArray"
   ]
  },
  {
   "cell_type": "code",
   "execution_count": 2,
   "metadata": {
    "colab": {
     "base_uri": "https://localhost:8080/"
    },
    "id": "aPuFGqpiCHyR",
    "outputId": "28b69d8d-de5b-43e4-abd9-0b5dca797317"
   },
   "outputs": [
    {
     "data": {
      "text/plain": [
       "array('d', [1.0, 2.4, 5.0, 3.0, 6.0, 1.0])"
      ]
     },
     "execution_count": 2,
     "metadata": {},
     "output_type": "execute_result"
    }
   ],
   "source": [
    "myArrayDouble= array('d', [1,2.4,5,3,6,1]) #double array\n",
    "myArrayDouble"
   ]
  },
  {
   "cell_type": "markdown",
   "metadata": {
    "id": "7hbkrmWqCjR3"
   },
   "source": [
    "## Insert, Traverse, Delete elements"
   ]
  },
  {
   "cell_type": "markdown",
   "metadata": {
    "id": "k_U4fjcrD558"
   },
   "source": [
    "### Insert"
   ]
  },
  {
   "cell_type": "code",
   "execution_count": 3,
   "metadata": {
    "colab": {
     "base_uri": "https://localhost:8080/"
    },
    "id": "8YwLybQBCeO8",
    "outputId": "8ef66324-d565-48c7-f1b0-db0cfbaf1a31"
   },
   "outputs": [
    {
     "data": {
      "text/plain": [
       "array('i', [0, 1, 2, 3, 4, 5])"
      ]
     },
     "execution_count": 3,
     "metadata": {},
     "output_type": "execute_result"
    }
   ],
   "source": [
    "\n",
    "myArray.insert(0, 0) #0 is being added at first index, index 0\n",
    "myArray"
   ]
  },
  {
   "cell_type": "code",
   "execution_count": 4,
   "metadata": {
    "colab": {
     "base_uri": "https://localhost:8080/"
    },
    "id": "5YoDhLBHDfGQ",
    "outputId": "5726599e-12b5-4edd-c62d-0a3d32a1a077"
   },
   "outputs": [
    {
     "data": {
      "text/plain": [
       "array('i', [0, 1, 2, 3, 4, 5, 6])"
      ]
     },
     "execution_count": 4,
     "metadata": {},
     "output_type": "execute_result"
    }
   ],
   "source": [
    "myArray.insert(6, 6) # 6 is being inserted at index 6, end of array.\n",
    "myArray"
   ]
  },
  {
   "cell_type": "markdown",
   "metadata": {
    "id": "5VG7R49HD8sR"
   },
   "source": [
    "### Traversal"
   ]
  },
  {
   "cell_type": "code",
   "execution_count": 5,
   "metadata": {
    "id": "FJK1c9g-Dzuc"
   },
   "outputs": [],
   "source": [
    "#Traversing means visiting all cells one by one.\n",
    "def ArrayTraversal(array):\n",
    "  for i in array:\n",
    "    print(i)"
   ]
  },
  {
   "cell_type": "code",
   "execution_count": 6,
   "metadata": {
    "colab": {
     "base_uri": "https://localhost:8080/"
    },
    "id": "ECbjJFrdEz9-",
    "outputId": "dcaabc1c-9dbb-4c8f-fcf5-459a4d6bb5d1"
   },
   "outputs": [
    {
     "name": "stdout",
     "output_type": "stream",
     "text": [
      "0\n",
      "1\n",
      "2\n",
      "3\n",
      "4\n",
      "5\n",
      "6\n"
     ]
    }
   ],
   "source": [
    "ArrayTraversal(myArray)"
   ]
  },
  {
   "cell_type": "markdown",
   "metadata": {
    "id": "LSDBam4pFGwn"
   },
   "source": [
    "### Access array element\n",
    "* Access array element by index.\n",
    "* Constant time operations. O(1) time and space complexity."
   ]
  },
  {
   "cell_type": "code",
   "execution_count": 7,
   "metadata": {
    "id": "6VTc6TvsFI7t"
   },
   "outputs": [
    {
     "data": {
      "text/plain": [
       "array('i', [2, 3])"
      ]
     },
     "execution_count": 7,
     "metadata": {},
     "output_type": "execute_result"
    }
   ],
   "source": [
    "myArray[2:4]"
   ]
  },
  {
   "cell_type": "code",
   "execution_count": 8,
   "metadata": {},
   "outputs": [],
   "source": [
    "def accessElement(array, index):\n",
    "    if index > len(array):\n",
    "        print('Out of bounds index')\n",
    "    else:\n",
    "        print(array[index])"
   ]
  },
  {
   "cell_type": "code",
   "execution_count": 9,
   "metadata": {},
   "outputs": [
    {
     "name": "stdout",
     "output_type": "stream",
     "text": [
      "Out of bounds index\n"
     ]
    }
   ],
   "source": [
    "accessElement(myArray, 8)"
   ]
  },
  {
   "cell_type": "code",
   "execution_count": 10,
   "metadata": {},
   "outputs": [
    {
     "name": "stdout",
     "output_type": "stream",
     "text": [
      "6\n"
     ]
    }
   ],
   "source": [
    "accessElement(myArray, 6)"
   ]
  },
  {
   "cell_type": "markdown",
   "metadata": {},
   "source": [
    "### Searching for an element in Array"
   ]
  },
  {
   "cell_type": "code",
   "execution_count": 11,
   "metadata": {},
   "outputs": [
    {
     "name": "stdout",
     "output_type": "stream",
     "text": [
      "array('i', [0, 1, 2, 3, 4, 5, 6])\n"
     ]
    }
   ],
   "source": [
    "print(myArray)"
   ]
  },
  {
   "cell_type": "code",
   "execution_count": 12,
   "metadata": {},
   "outputs": [],
   "source": [
    "def searchInArray(array, value):\n",
    "    for i in array:\n",
    "        if i == value:\n",
    "            return array.index(value)\n",
    "    return 'The element does not exist in an array'"
   ]
  },
  {
   "cell_type": "code",
   "execution_count": 13,
   "metadata": {},
   "outputs": [
    {
     "data": {
      "text/plain": [
       "2"
      ]
     },
     "execution_count": 13,
     "metadata": {},
     "output_type": "execute_result"
    }
   ],
   "source": [
    "searchInArray(myArray, 2)"
   ]
  },
  {
   "cell_type": "code",
   "execution_count": 14,
   "metadata": {},
   "outputs": [
    {
     "data": {
      "text/plain": [
       "'The element does not exist in an array'"
      ]
     },
     "execution_count": 14,
     "metadata": {},
     "output_type": "execute_result"
    }
   ],
   "source": [
    "searchInArray(myArray, 8)"
   ]
  },
  {
   "cell_type": "markdown",
   "metadata": {},
   "source": [
    "### Delete element from Array\n",
    "* Elements need to be moved to make the memory space contiguous"
   ]
  },
  {
   "cell_type": "code",
   "execution_count": 15,
   "metadata": {},
   "outputs": [
    {
     "name": "stdout",
     "output_type": "stream",
     "text": [
      "array('i', [0, 1, 2, 3, 4, 5, 6])\n"
     ]
    }
   ],
   "source": [
    "print(myArray)"
   ]
  },
  {
   "cell_type": "code",
   "execution_count": 16,
   "metadata": {},
   "outputs": [
    {
     "name": "stdout",
     "output_type": "stream",
     "text": [
      "array('i', [0, 2, 3, 4, 5, 6])\n"
     ]
    }
   ],
   "source": [
    "myArray.remove(1)  #Element with value 1 will be removed.\n",
    "print(myArray)"
   ]
  },
  {
   "cell_type": "markdown",
   "metadata": {},
   "source": [
    "# One Dimensional Array Practice."
   ]
  },
  {
   "cell_type": "code",
   "execution_count": 17,
   "metadata": {},
   "outputs": [],
   "source": [
    "from array import *\n",
    "my_array= array('i', [1,2,3,4,5]) #Create"
   ]
  },
  {
   "cell_type": "code",
   "execution_count": 18,
   "metadata": {},
   "outputs": [
    {
     "name": "stdout",
     "output_type": "stream",
     "text": [
      "1\n",
      "2\n",
      "3\n",
      "4\n",
      "5\n"
     ]
    }
   ],
   "source": [
    "for i in my_array:   #Access elements in array\n",
    "    print(i)"
   ]
  },
  {
   "cell_type": "code",
   "execution_count": 19,
   "metadata": {},
   "outputs": [
    {
     "name": "stdout",
     "output_type": "stream",
     "text": [
      "array('i', [1, 2, 3, 4, 5, 6])\n"
     ]
    }
   ],
   "source": [
    "#Add element to end of array using append method. Can also use .insert to insert at particular index.\n",
    "\n",
    "my_array.append(6)\n",
    "print(my_array)"
   ]
  },
  {
   "cell_type": "code",
   "execution_count": 20,
   "metadata": {},
   "outputs": [
    {
     "name": "stdout",
     "output_type": "stream",
     "text": [
      "array('i', [1, 2, 3, 4, 5, 6, 7])\n"
     ]
    }
   ],
   "source": [
    "#Add element at particular index using insert \n",
    "my_array.insert(6, 7)  #insert 7 at index 6\n",
    "print(my_array)"
   ]
  },
  {
   "cell_type": "code",
   "execution_count": 21,
   "metadata": {},
   "outputs": [
    {
     "name": "stdout",
     "output_type": "stream",
     "text": [
      "array('i', [1, 2, 3, 4, 5, 6, 7, 8, 9, 10, 11])\n"
     ]
    }
   ],
   "source": [
    "#Extend method\n",
    "\n",
    "my_array.extend(array('i',[8,9,10,11]))\n",
    "print(my_array)"
   ]
  },
  {
   "cell_type": "code",
   "execution_count": 22,
   "metadata": {},
   "outputs": [
    {
     "name": "stdout",
     "output_type": "stream",
     "text": [
      "array('i', [1, 2, 3, 4, 5, 6, 7, 8, 9, 10, 11, 12, 13, 14, 15])\n"
     ]
    }
   ],
   "source": [
    "#Add items from list using fromlist() method\n",
    "\n",
    "mylist= [12,13,14,15]\n",
    "my_array.fromlist(mylist)  #Adding element from list 'mylist'\n",
    "print(my_array)"
   ]
  },
  {
   "cell_type": "code",
   "execution_count": 23,
   "metadata": {},
   "outputs": [
    {
     "name": "stdout",
     "output_type": "stream",
     "text": [
      "array('i', [2, 3, 4, 5, 6, 7, 8, 9, 10, 11, 12, 13, 14, 15])\n"
     ]
    }
   ],
   "source": [
    "#remove element from array\n",
    "\n",
    "my_array.remove(1) #remove first occurence of 1 from array\n",
    "print(my_array)"
   ]
  },
  {
   "cell_type": "code",
   "execution_count": 24,
   "metadata": {},
   "outputs": [
    {
     "name": "stdout",
     "output_type": "stream",
     "text": [
      "array('i', [2, 3, 4, 5, 6, 7, 8, 9, 10, 11, 12, 13, 14])\n"
     ]
    }
   ],
   "source": [
    "#remove last element using pop method\n",
    "\n",
    "my_array.pop()\n",
    "print(my_array)"
   ]
  },
  {
   "cell_type": "code",
   "execution_count": 25,
   "metadata": {},
   "outputs": [
    {
     "name": "stdout",
     "output_type": "stream",
     "text": [
      "7\n"
     ]
    }
   ],
   "source": [
    "# find index of an element\n",
    "\n",
    "print(my_array.index(9))"
   ]
  },
  {
   "cell_type": "code",
   "execution_count": 26,
   "metadata": {},
   "outputs": [
    {
     "name": "stdout",
     "output_type": "stream",
     "text": [
      "array('i', [14, 13, 12, 11, 10, 9, 8, 7, 6, 5, 4, 3, 2])\n"
     ]
    }
   ],
   "source": [
    "my_array.reverse()\n",
    "print(my_array)"
   ]
  },
  {
   "cell_type": "code",
   "execution_count": 27,
   "metadata": {},
   "outputs": [
    {
     "name": "stdout",
     "output_type": "stream",
     "text": [
      "(140281085955312, 13)\n"
     ]
    }
   ],
   "source": [
    "#Get array buffer information  through buffer.info method.\n",
    "print(my_array.buffer_info()) \n",
    "#memory start location and number of elements"
   ]
  },
  {
   "cell_type": "code",
   "execution_count": 28,
   "metadata": {},
   "outputs": [
    {
     "data": {
      "text/plain": [
       "2"
      ]
     },
     "execution_count": 28,
     "metadata": {},
     "output_type": "execute_result"
    }
   ],
   "source": [
    "#Number of times an element occurs in the array\n",
    "my_array.append(11)\n",
    "my_array.count(11)"
   ]
  },
  {
   "cell_type": "code",
   "execution_count": 29,
   "metadata": {},
   "outputs": [
    {
     "name": "stdout",
     "output_type": "stream",
     "text": [
      "b'\\x0e\\x00\\x00\\x00\\r\\x00\\x00\\x00\\x0c\\x00\\x00\\x00\\x0b\\x00\\x00\\x00\\n\\x00\\x00\\x00\\t\\x00\\x00\\x00\\x08\\x00\\x00\\x00\\x07\\x00\\x00\\x00\\x06\\x00\\x00\\x00\\x05\\x00\\x00\\x00\\x04\\x00\\x00\\x00\\x03\\x00\\x00\\x00\\x02\\x00\\x00\\x00\\x0b\\x00\\x00\\x00'\n"
     ]
    }
   ],
   "source": [
    "# Convert integer array to string array\n",
    "str_Temp= my_array.tostring()\n",
    "print(str_Temp)"
   ]
  },
  {
   "cell_type": "code",
   "execution_count": 30,
   "metadata": {},
   "outputs": [],
   "source": [
    "#Convert array to list using tolist() method\n",
    "my_list=my_array"
   ]
  },
  {
   "cell_type": "code",
   "execution_count": 31,
   "metadata": {},
   "outputs": [
    {
     "data": {
      "text/plain": [
       "[14, 13, 12, 11, 10, 9, 8, 7, 6, 5, 4, 3, 2, 11]"
      ]
     },
     "execution_count": 31,
     "metadata": {},
     "output_type": "execute_result"
    }
   ],
   "source": [
    "my_list.tolist()"
   ]
  },
  {
   "cell_type": "code",
   "execution_count": 32,
   "metadata": {},
   "outputs": [
    {
     "name": "stdout",
     "output_type": "stream",
     "text": [
      "array('i', [14, 13, 12, 11, 10, 9, 8, 7, 6, 5, 4, 3, 2, 11])\n"
     ]
    }
   ],
   "source": [
    "#Append a string to char array using fromstring() method\n",
    "\n",
    "ints= array('i')\n",
    "ints.fromstring(str_Temp)\n",
    "print(ints)"
   ]
  },
  {
   "cell_type": "code",
   "execution_count": 33,
   "metadata": {},
   "outputs": [
    {
     "data": {
      "text/plain": [
       "array('i', [9, 8, 7, 6])"
      ]
     },
     "execution_count": 33,
     "metadata": {},
     "output_type": "execute_result"
    }
   ],
   "source": [
    "my_array[5:9]"
   ]
  },
  {
   "cell_type": "markdown",
   "metadata": {},
   "source": [
    "# Two Dimensional Array"
   ]
  },
  {
   "cell_type": "code",
   "execution_count": 34,
   "metadata": {},
   "outputs": [
    {
     "name": "stdout",
     "output_type": "stream",
     "text": [
      "[[10 15 16]\n",
      " [17 32 76]\n",
      " [ 7 98 11]]\n"
     ]
    }
   ],
   "source": [
    "import numpy as np\n",
    "twoDArray= np.array([ [10,15,16],\n",
    "                      [17,32,76],\n",
    "                      [7, 98,11]\n",
    "                    ])\n",
    "print(twoDArray)"
   ]
  },
  {
   "cell_type": "markdown",
   "metadata": {},
   "source": [
    "## Insert row or column to array using the np.insert option"
   ]
  },
  {
   "cell_type": "code",
   "execution_count": 35,
   "metadata": {},
   "outputs": [
    {
     "data": {
      "text/plain": [
       "array([[ 0, 10, 15, 16],\n",
       "       [ 1, 17, 32, 76],\n",
       "       [ 2,  7, 98, 11]])"
      ]
     },
     "execution_count": 35,
     "metadata": {},
     "output_type": "execute_result"
    }
   ],
   "source": [
    "newtwoDArray= np.insert(twoDArray,0, [[0,1,2]], axis=1) #original array, position, new vector, axis\n",
    "newtwoDArray"
   ]
  },
  {
   "cell_type": "code",
   "execution_count": 36,
   "metadata": {},
   "outputs": [
    {
     "data": {
      "text/plain": [
       "array([[ 0,  5, 10, 15, 16],\n",
       "       [ 1,  5, 17, 32, 76],\n",
       "       [ 2,  5,  7, 98, 11]])"
      ]
     },
     "execution_count": 36,
     "metadata": {},
     "output_type": "execute_result"
    }
   ],
   "source": [
    "newtwoDArray= np.insert(newtwoDArray, 1, [5,5,5], axis= 1)\n",
    "newtwoDArray"
   ]
  },
  {
   "cell_type": "code",
   "execution_count": 37,
   "metadata": {},
   "outputs": [
    {
     "data": {
      "text/plain": [
       "array([[ 0,  5, 10, 15, 16],\n",
       "       [ 1,  5, 17, 32, 76],\n",
       "       [ 2,  5,  7, 98, 11],\n",
       "       [ 1,  2,  3,  4,  5]])"
      ]
     },
     "execution_count": 37,
     "metadata": {},
     "output_type": "execute_result"
    }
   ],
   "source": [
    "#Append row/column using the np.append function\n",
    "\n",
    "newtwoDArray= np.append(newtwoDArray, [[1,2,3,4,5]], axis=0)\n",
    "newtwoDArray\n",
    "\n",
    "#DON\"T FORGET TO PUT DOUBLE PARANTHESIS WHEN ADDING/INSERTING ROWS OR COLUMNS."
   ]
  },
  {
   "cell_type": "markdown",
   "metadata": {},
   "source": [
    "## Traverse a 2D array."
   ]
  },
  {
   "cell_type": "code",
   "execution_count": 43,
   "metadata": {},
   "outputs": [
    {
     "name": "stdout",
     "output_type": "stream",
     "text": [
      "0\n",
      "5\n",
      "10\n",
      "15\n",
      "16\n",
      "1\n",
      "5\n",
      "17\n",
      "32\n",
      "76\n",
      "2\n",
      "5\n",
      "7\n",
      "98\n",
      "11\n",
      "1\n",
      "2\n",
      "3\n",
      "4\n",
      "5\n"
     ]
    }
   ],
   "source": [
    "for i in range (0,np.shape(newtwoDArray)[0]):\n",
    "    for j in range (0,np.shape(newtwoDArray)[1]):\n",
    "        print(newtwoDArray[i][j])"
   ]
  },
  {
   "cell_type": "markdown",
   "metadata": {},
   "source": [
    "# Deleting row/column from array."
   ]
  },
  {
   "cell_type": "code",
   "execution_count": 45,
   "metadata": {},
   "outputs": [
    {
     "data": {
      "text/plain": [
       "array([[ 0,  5, 10, 15, 16],\n",
       "       [ 1,  5, 17, 32, 76],\n",
       "       [ 2,  5,  7, 98, 11],\n",
       "       [ 1,  2,  3,  4,  5]])"
      ]
     },
     "execution_count": 45,
     "metadata": {},
     "output_type": "execute_result"
    }
   ],
   "source": [
    "newtwoDArray"
   ]
  },
  {
   "cell_type": "code",
   "execution_count": 46,
   "metadata": {},
   "outputs": [
    {
     "name": "stdout",
     "output_type": "stream",
     "text": [
      "[[ 0  5 10 15 16]\n",
      " [ 1  5 17 32 76]\n",
      " [ 2  5  7 98 11]]\n"
     ]
    }
   ],
   "source": [
    "newRowRemovedArray= np.delete(newtwoDArray, -1, axis = 0) #array, index, and axis\n",
    "print(newRowRemovedArray)"
   ]
  },
  {
   "cell_type": "markdown",
   "metadata": {},
   "source": [
    "# Time Complexity for array operations"
   ]
  },
  {
   "cell_type": "markdown",
   "metadata": {},
   "source": [
    "* Creation- O(1). Space Complexity is O(n)\n",
    "* Insertion at begining of array/ middle of array- O(n)\n",
    "* Insertion at end of array - O(1).\n",
    "* Array Traversal- O(n) { if you're simply printing the elements of array }\n",
    "* Accessing an array element by index takes constant space and time complexity. O(1)\n",
    "* Searching for an element in an array has O(n) time complexity and O(1) space complexity.\n",
    "* If last element is deleted the time complexity is O(1) since no elements need to shift, but otherwise its O(n). Space complexity is O(1)\n",
    "* Creation of 2D array takes O(1) time complexity. Space Complexity is O(mn)\n",
    "* Accessing an element of a 2D element takes O(1) time complexity and space complexity.\n",
    "* Time complexity is O(mn), space complexity is O(1) for traversing through a 2D array.\n",
    "* Linear search for element in 2D array has time complexity of O(mn)and space complexity of O(1).\n",
    "* Deleting a row or column from a 2D array has O(mn) type complexity. "
   ]
  },
  {
   "cell_type": "markdown",
   "metadata": {},
   "source": [
    "<img src=\"./imagetcsc.png\" style=\"height: 300px;\"/>"
   ]
  },
  {
   "cell_type": "markdown",
   "metadata": {},
   "source": [
    "<img src=\"./imagetcscd.png\" style=\"height: 300px;\"/>"
   ]
  },
  {
   "cell_type": "markdown",
   "metadata": {},
   "source": [
    "# When to use and avoid arrays?"
   ]
  },
  {
   "cell_type": "markdown",
   "metadata": {},
   "source": [
    "* Multiple variables from same data type.\n",
    "* Randomly access a variable or value. Array offers O(1) time complexity.\n",
    "* Same data type elements are allowed exclusively and they reserve memory."
   ]
  },
  {
   "cell_type": "code",
   "execution_count": null,
   "metadata": {},
   "outputs": [],
   "source": []
  }
 ],
 "metadata": {
  "colab": {
   "name": "Array_DS.ipynb",
   "provenance": []
  },
  "kernelspec": {
   "display_name": "Python 3",
   "language": "python",
   "name": "python3"
  },
  "language_info": {
   "codemirror_mode": {
    "name": "ipython",
    "version": 3
   },
   "file_extension": ".py",
   "mimetype": "text/x-python",
   "name": "python",
   "nbconvert_exporter": "python",
   "pygments_lexer": "ipython3",
   "version": "3.8.5"
  }
 },
 "nbformat": 4,
 "nbformat_minor": 4
}
