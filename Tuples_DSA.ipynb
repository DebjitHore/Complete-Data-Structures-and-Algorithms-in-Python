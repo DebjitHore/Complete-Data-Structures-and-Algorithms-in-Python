{
  "nbformat": 4,
  "nbformat_minor": 0,
  "metadata": {
    "colab": {
      "name": "Tuples_DSA.ipynb",
      "provenance": [],
      "authorship_tag": "ABX9TyPFampurdjnR17qVtB0SMJk",
      "include_colab_link": true
    },
    "kernelspec": {
      "name": "python3",
      "display_name": "Python 3"
    },
    "language_info": {
      "name": "python"
    }
  },
  "cells": [
    {
      "cell_type": "markdown",
      "metadata": {
        "id": "view-in-github",
        "colab_type": "text"
      },
      "source": [
        "<a href=\"https://colab.research.google.com/github/DebjitHore/Complete-Data-Structures-and-Algorithms-in-Python/blob/main/Tuples_DSA.ipynb\" target=\"_parent\"><img src=\"https://colab.research.google.com/assets/colab-badge.svg\" alt=\"Open In Colab\"/></a>"
      ]
    },
    {
      "cell_type": "markdown",
      "metadata": {
        "id": "pwTNL1rhwrEW"
      },
      "source": [
        "## What is a Tuple?\n",
        "\n",
        "* Immutable sequence of Python objects, comparable and hashable.\n",
        "* Indexed by integers.\n",
        "* An object is said to be hashable if it has a specific value that remains immutable during its lifetime.\n",
        "* tuple('abcde')= ('a', .... 'e')\n",
        "* Time Complexity of creation is O(1) and space complexity is O(n)."
      ]
    },
    {
      "cell_type": "markdown",
      "metadata": {
        "id": "uOkn1OmbyJKy"
      },
      "source": [
        "## Tuples in memory/Accessing tuple elements.\n",
        "\n",
        "* Stored in contiguous memory locations.\n",
        "* Can not update values after initial creation.\n",
        "*  Time complexity of traversing through a tuple is O(n) and space complexity is O(1).\n"
      ]
    },
    {
      "cell_type": "markdown",
      "metadata": {
        "id": "xnpOfj940i48"
      },
      "source": [
        "## Searching for an element in a Tuple.\n",
        "\n",
        "* in operator------> as usual.\n",
        "* Time complexity for searching through a tuple for an element using linear search is O(n) & Space Complexity is O(1)."
      ]
    },
    {
      "cell_type": "markdown",
      "metadata": {
        "id": "_6sgOTJz1xIO"
      },
      "source": [
        "## Tuples operations and functions.\n",
        "\n",
        "* '*' repeats the sequence of the elements in a tuple.\n",
        "* max and min to calculate the maximum and minimum function."
      ]
    },
    {
      "cell_type": "code",
      "metadata": {
        "colab": {
          "base_uri": "https://localhost:8080/"
        },
        "id": "_N5_LCv4x4wc",
        "outputId": "13df2554-4d3b-4250-85f4-65eb516e6a69"
      },
      "source": [
        "mytuple= (1,2,3,4,5,6)\n",
        "mytuple*4"
      ],
      "execution_count": 2,
      "outputs": [
        {
          "output_type": "execute_result",
          "data": {
            "text/plain": [
              "(1, 2, 3, 4, 5, 6, 1, 2, 3, 4, 5, 6, 1, 2, 3, 4, 5, 6, 1, 2, 3, 4, 5, 6)"
            ]
          },
          "metadata": {},
          "execution_count": 2
        }
      ]
    },
    {
      "cell_type": "markdown",
      "metadata": {
        "id": "0dik3IM1RAne"
      },
      "source": [
        "## Tuples versus List.\n",
        "\n",
        "* Lists are mutable.\n",
        "* "
      ]
    },
    {
      "cell_type": "code",
      "metadata": {
        "id": "UjUQ_NMJ2FY6"
      },
      "source": [
        ""
      ],
      "execution_count": null,
      "outputs": []
    }
  ]
}